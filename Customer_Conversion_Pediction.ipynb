{
 "cells": [
  {
   "cell_type": "markdown",
   "id": "b7ecfdfe",
   "metadata": {},
   "source": [
    "# Customer Conversion Prediction\n"
   ]
  },
  {
   "cell_type": "markdown",
   "id": "f5286c3b",
   "metadata": {},
   "source": [
    "# Problem Statement"
   ]
  },
  {
   "cell_type": "raw",
   "id": "d99171b6",
   "metadata": {},
   "source": [
    "You are working for a new-age insurance company and employ mutiple outreach plans to sell term insurance to your customers. Telephonic marketing campaigns still remain one of the most effective way to reach out to people however they incur a lot of cost. Hence, it is important to identify the customers that are most likely to convert beforehand so that they can be specifically targeted via call. We are given the historical marketing data of the insurance company and are required to build a ML model that will predict if a client will subscribe to the insurance. "
   ]
  },
  {
   "cell_type": "markdown",
   "id": "44f3fe2c",
   "metadata": {},
   "source": [
    "# Features: "
   ]
  },
  {
   "cell_type": "raw",
   "id": "eeccb4a0",
   "metadata": {},
   "source": [
    "age (numeric)\n",
    "job : type of job\n",
    "marital : marital status\n",
    "educational_qual : education status\n",
    "call_type : contact communication type\n",
    "day: last contact day of the month (numeric)\n",
    "mon: last contact month of year\n",
    "dur: last contact duration, in seconds (numeric)\n",
    "num_calls: number of contacts performed during this campaign and for this client \n"
   ]
  },
  {
   "cell_type": "markdown",
   "id": "10f6129b",
   "metadata": {},
   "source": [
    "# Importing Libaries"
   ]
  },
  {
   "cell_type": "code",
   "execution_count": 1,
   "id": "e03acd4b",
   "metadata": {},
   "outputs": [],
   "source": [
    "import pandas as pd\n",
    "import numpy as np\n",
    "import matplotlib.pyplot as plt\n",
    "import seaborn as sns"
   ]
  },
  {
   "cell_type": "code",
   "execution_count": 2,
   "id": "d134359a",
   "metadata": {},
   "outputs": [],
   "source": [
    "#To Ignore file warnings\n",
    "import warnings\n",
    "warnings.filterwarnings(\"ignore\") "
   ]
  },
  {
   "cell_type": "markdown",
   "id": "189b69a5",
   "metadata": {},
   "source": [
    "# Reading the Datasets"
   ]
  },
  {
   "cell_type": "code",
   "execution_count": 3,
   "id": "d737a0cc",
   "metadata": {},
   "outputs": [],
   "source": [
    "df=pd.read_csv(\"train.csv\")"
   ]
  },
  {
   "cell_type": "markdown",
   "id": "4313bae5",
   "metadata": {},
   "source": [
    "# Analysis the Data"
   ]
  },
  {
   "cell_type": "code",
   "execution_count": 4,
   "id": "10036021",
   "metadata": {},
   "outputs": [
    {
     "name": "stdout",
     "output_type": "stream",
     "text": [
      "Data set size :  (45211, 11)\n"
     ]
    }
   ],
   "source": [
    "print(\"Data set size : \", df.shape)"
   ]
  },
  {
   "cell_type": "code",
   "execution_count": 5,
   "id": "e8a82729",
   "metadata": {},
   "outputs": [
    {
     "data": {
      "text/html": [
       "<div>\n",
       "<style scoped>\n",
       "    .dataframe tbody tr th:only-of-type {\n",
       "        vertical-align: middle;\n",
       "    }\n",
       "\n",
       "    .dataframe tbody tr th {\n",
       "        vertical-align: top;\n",
       "    }\n",
       "\n",
       "    .dataframe thead th {\n",
       "        text-align: right;\n",
       "    }\n",
       "</style>\n",
       "<table border=\"1\" class=\"dataframe\">\n",
       "  <thead>\n",
       "    <tr style=\"text-align: right;\">\n",
       "      <th></th>\n",
       "      <th>age</th>\n",
       "      <th>job</th>\n",
       "      <th>marital</th>\n",
       "      <th>education_qual</th>\n",
       "      <th>call_type</th>\n",
       "      <th>day</th>\n",
       "      <th>mon</th>\n",
       "      <th>dur</th>\n",
       "      <th>num_calls</th>\n",
       "      <th>prev_outcome</th>\n",
       "      <th>y</th>\n",
       "    </tr>\n",
       "  </thead>\n",
       "  <tbody>\n",
       "    <tr>\n",
       "      <th>0</th>\n",
       "      <td>58</td>\n",
       "      <td>management</td>\n",
       "      <td>married</td>\n",
       "      <td>tertiary</td>\n",
       "      <td>unknown</td>\n",
       "      <td>5</td>\n",
       "      <td>may</td>\n",
       "      <td>261</td>\n",
       "      <td>1</td>\n",
       "      <td>unknown</td>\n",
       "      <td>no</td>\n",
       "    </tr>\n",
       "    <tr>\n",
       "      <th>1</th>\n",
       "      <td>44</td>\n",
       "      <td>technician</td>\n",
       "      <td>single</td>\n",
       "      <td>secondary</td>\n",
       "      <td>unknown</td>\n",
       "      <td>5</td>\n",
       "      <td>may</td>\n",
       "      <td>151</td>\n",
       "      <td>1</td>\n",
       "      <td>unknown</td>\n",
       "      <td>no</td>\n",
       "    </tr>\n",
       "    <tr>\n",
       "      <th>2</th>\n",
       "      <td>33</td>\n",
       "      <td>entrepreneur</td>\n",
       "      <td>married</td>\n",
       "      <td>secondary</td>\n",
       "      <td>unknown</td>\n",
       "      <td>5</td>\n",
       "      <td>may</td>\n",
       "      <td>76</td>\n",
       "      <td>1</td>\n",
       "      <td>unknown</td>\n",
       "      <td>no</td>\n",
       "    </tr>\n",
       "    <tr>\n",
       "      <th>3</th>\n",
       "      <td>47</td>\n",
       "      <td>blue-collar</td>\n",
       "      <td>married</td>\n",
       "      <td>unknown</td>\n",
       "      <td>unknown</td>\n",
       "      <td>5</td>\n",
       "      <td>may</td>\n",
       "      <td>92</td>\n",
       "      <td>1</td>\n",
       "      <td>unknown</td>\n",
       "      <td>no</td>\n",
       "    </tr>\n",
       "    <tr>\n",
       "      <th>4</th>\n",
       "      <td>33</td>\n",
       "      <td>unknown</td>\n",
       "      <td>single</td>\n",
       "      <td>unknown</td>\n",
       "      <td>unknown</td>\n",
       "      <td>5</td>\n",
       "      <td>may</td>\n",
       "      <td>198</td>\n",
       "      <td>1</td>\n",
       "      <td>unknown</td>\n",
       "      <td>no</td>\n",
       "    </tr>\n",
       "  </tbody>\n",
       "</table>\n",
       "</div>"
      ],
      "text/plain": [
       "   age           job  marital education_qual call_type  day  mon  dur  \\\n",
       "0   58    management  married       tertiary   unknown    5  may  261   \n",
       "1   44    technician   single      secondary   unknown    5  may  151   \n",
       "2   33  entrepreneur  married      secondary   unknown    5  may   76   \n",
       "3   47   blue-collar  married        unknown   unknown    5  may   92   \n",
       "4   33       unknown   single        unknown   unknown    5  may  198   \n",
       "\n",
       "   num_calls prev_outcome   y  \n",
       "0          1      unknown  no  \n",
       "1          1      unknown  no  \n",
       "2          1      unknown  no  \n",
       "3          1      unknown  no  \n",
       "4          1      unknown  no  "
      ]
     },
     "execution_count": 5,
     "metadata": {},
     "output_type": "execute_result"
    }
   ],
   "source": [
    "# Print the Top 5 rows in the given Dataset\n",
    "df.head()"
   ]
  },
  {
   "cell_type": "code",
   "execution_count": 6,
   "id": "d4a09fd5",
   "metadata": {},
   "outputs": [
    {
     "data": {
      "text/html": [
       "<div>\n",
       "<style scoped>\n",
       "    .dataframe tbody tr th:only-of-type {\n",
       "        vertical-align: middle;\n",
       "    }\n",
       "\n",
       "    .dataframe tbody tr th {\n",
       "        vertical-align: top;\n",
       "    }\n",
       "\n",
       "    .dataframe thead th {\n",
       "        text-align: right;\n",
       "    }\n",
       "</style>\n",
       "<table border=\"1\" class=\"dataframe\">\n",
       "  <thead>\n",
       "    <tr style=\"text-align: right;\">\n",
       "      <th></th>\n",
       "      <th>age</th>\n",
       "      <th>job</th>\n",
       "      <th>marital</th>\n",
       "      <th>education_qual</th>\n",
       "      <th>call_type</th>\n",
       "      <th>day</th>\n",
       "      <th>mon</th>\n",
       "      <th>dur</th>\n",
       "      <th>num_calls</th>\n",
       "      <th>prev_outcome</th>\n",
       "      <th>y</th>\n",
       "    </tr>\n",
       "  </thead>\n",
       "  <tbody>\n",
       "    <tr>\n",
       "      <th>45206</th>\n",
       "      <td>51</td>\n",
       "      <td>technician</td>\n",
       "      <td>married</td>\n",
       "      <td>tertiary</td>\n",
       "      <td>cellular</td>\n",
       "      <td>17</td>\n",
       "      <td>nov</td>\n",
       "      <td>977</td>\n",
       "      <td>3</td>\n",
       "      <td>unknown</td>\n",
       "      <td>yes</td>\n",
       "    </tr>\n",
       "    <tr>\n",
       "      <th>45207</th>\n",
       "      <td>71</td>\n",
       "      <td>retired</td>\n",
       "      <td>divorced</td>\n",
       "      <td>primary</td>\n",
       "      <td>cellular</td>\n",
       "      <td>17</td>\n",
       "      <td>nov</td>\n",
       "      <td>456</td>\n",
       "      <td>2</td>\n",
       "      <td>unknown</td>\n",
       "      <td>yes</td>\n",
       "    </tr>\n",
       "    <tr>\n",
       "      <th>45208</th>\n",
       "      <td>72</td>\n",
       "      <td>retired</td>\n",
       "      <td>married</td>\n",
       "      <td>secondary</td>\n",
       "      <td>cellular</td>\n",
       "      <td>17</td>\n",
       "      <td>nov</td>\n",
       "      <td>1127</td>\n",
       "      <td>5</td>\n",
       "      <td>success</td>\n",
       "      <td>yes</td>\n",
       "    </tr>\n",
       "    <tr>\n",
       "      <th>45209</th>\n",
       "      <td>57</td>\n",
       "      <td>blue-collar</td>\n",
       "      <td>married</td>\n",
       "      <td>secondary</td>\n",
       "      <td>telephone</td>\n",
       "      <td>17</td>\n",
       "      <td>nov</td>\n",
       "      <td>508</td>\n",
       "      <td>4</td>\n",
       "      <td>unknown</td>\n",
       "      <td>no</td>\n",
       "    </tr>\n",
       "    <tr>\n",
       "      <th>45210</th>\n",
       "      <td>37</td>\n",
       "      <td>entrepreneur</td>\n",
       "      <td>married</td>\n",
       "      <td>secondary</td>\n",
       "      <td>cellular</td>\n",
       "      <td>17</td>\n",
       "      <td>nov</td>\n",
       "      <td>361</td>\n",
       "      <td>2</td>\n",
       "      <td>other</td>\n",
       "      <td>no</td>\n",
       "    </tr>\n",
       "  </tbody>\n",
       "</table>\n",
       "</div>"
      ],
      "text/plain": [
       "       age           job   marital education_qual  call_type  day  mon   dur  \\\n",
       "45206   51    technician   married       tertiary   cellular   17  nov   977   \n",
       "45207   71       retired  divorced        primary   cellular   17  nov   456   \n",
       "45208   72       retired   married      secondary   cellular   17  nov  1127   \n",
       "45209   57   blue-collar   married      secondary  telephone   17  nov   508   \n",
       "45210   37  entrepreneur   married      secondary   cellular   17  nov   361   \n",
       "\n",
       "       num_calls prev_outcome    y  \n",
       "45206          3      unknown  yes  \n",
       "45207          2      unknown  yes  \n",
       "45208          5      success  yes  \n",
       "45209          4      unknown   no  \n",
       "45210          2        other   no  "
      ]
     },
     "execution_count": 6,
     "metadata": {},
     "output_type": "execute_result"
    }
   ],
   "source": [
    "# Print the Bottom 5 rows in the given Dataset\n",
    "df.tail()"
   ]
  },
  {
   "cell_type": "code",
   "execution_count": 7,
   "id": "bdc0bc46",
   "metadata": {},
   "outputs": [
    {
     "data": {
      "text/plain": [
       "Index(['age', 'job', 'marital', 'education_qual', 'call_type', 'day', 'mon',\n",
       "       'dur', 'num_calls', 'prev_outcome', 'y'],\n",
       "      dtype='object')"
      ]
     },
     "execution_count": 7,
     "metadata": {},
     "output_type": "execute_result"
    }
   ],
   "source": [
    "# TO find the columns in dataset\n",
    "df.columns"
   ]
  },
  {
   "cell_type": "code",
   "execution_count": 8,
   "id": "b9000d29",
   "metadata": {},
   "outputs": [
    {
     "data": {
      "text/html": [
       "<div>\n",
       "<style scoped>\n",
       "    .dataframe tbody tr th:only-of-type {\n",
       "        vertical-align: middle;\n",
       "    }\n",
       "\n",
       "    .dataframe tbody tr th {\n",
       "        vertical-align: top;\n",
       "    }\n",
       "\n",
       "    .dataframe thead th {\n",
       "        text-align: right;\n",
       "    }\n",
       "</style>\n",
       "<table border=\"1\" class=\"dataframe\">\n",
       "  <thead>\n",
       "    <tr style=\"text-align: right;\">\n",
       "      <th></th>\n",
       "      <th>age</th>\n",
       "      <th>day</th>\n",
       "      <th>dur</th>\n",
       "      <th>num_calls</th>\n",
       "    </tr>\n",
       "  </thead>\n",
       "  <tbody>\n",
       "    <tr>\n",
       "      <th>count</th>\n",
       "      <td>45211.000000</td>\n",
       "      <td>45211.000000</td>\n",
       "      <td>45211.000000</td>\n",
       "      <td>45211.000000</td>\n",
       "    </tr>\n",
       "    <tr>\n",
       "      <th>mean</th>\n",
       "      <td>40.936210</td>\n",
       "      <td>15.806419</td>\n",
       "      <td>258.163080</td>\n",
       "      <td>2.763841</td>\n",
       "    </tr>\n",
       "    <tr>\n",
       "      <th>std</th>\n",
       "      <td>10.618762</td>\n",
       "      <td>8.322476</td>\n",
       "      <td>257.527812</td>\n",
       "      <td>3.098021</td>\n",
       "    </tr>\n",
       "    <tr>\n",
       "      <th>min</th>\n",
       "      <td>18.000000</td>\n",
       "      <td>1.000000</td>\n",
       "      <td>0.000000</td>\n",
       "      <td>1.000000</td>\n",
       "    </tr>\n",
       "    <tr>\n",
       "      <th>25%</th>\n",
       "      <td>33.000000</td>\n",
       "      <td>8.000000</td>\n",
       "      <td>103.000000</td>\n",
       "      <td>1.000000</td>\n",
       "    </tr>\n",
       "    <tr>\n",
       "      <th>50%</th>\n",
       "      <td>39.000000</td>\n",
       "      <td>16.000000</td>\n",
       "      <td>180.000000</td>\n",
       "      <td>2.000000</td>\n",
       "    </tr>\n",
       "    <tr>\n",
       "      <th>75%</th>\n",
       "      <td>48.000000</td>\n",
       "      <td>21.000000</td>\n",
       "      <td>319.000000</td>\n",
       "      <td>3.000000</td>\n",
       "    </tr>\n",
       "    <tr>\n",
       "      <th>max</th>\n",
       "      <td>95.000000</td>\n",
       "      <td>31.000000</td>\n",
       "      <td>4918.000000</td>\n",
       "      <td>63.000000</td>\n",
       "    </tr>\n",
       "  </tbody>\n",
       "</table>\n",
       "</div>"
      ],
      "text/plain": [
       "                age           day           dur     num_calls\n",
       "count  45211.000000  45211.000000  45211.000000  45211.000000\n",
       "mean      40.936210     15.806419    258.163080      2.763841\n",
       "std       10.618762      8.322476    257.527812      3.098021\n",
       "min       18.000000      1.000000      0.000000      1.000000\n",
       "25%       33.000000      8.000000    103.000000      1.000000\n",
       "50%       39.000000     16.000000    180.000000      2.000000\n",
       "75%       48.000000     21.000000    319.000000      3.000000\n",
       "max       95.000000     31.000000   4918.000000     63.000000"
      ]
     },
     "execution_count": 8,
     "metadata": {},
     "output_type": "execute_result"
    }
   ],
   "source": [
    "# for basic statistical analysis of given dataset\n",
    "df.describe()"
   ]
  },
  {
   "cell_type": "code",
   "execution_count": 9,
   "id": "65cf7a7e",
   "metadata": {},
   "outputs": [
    {
     "data": {
      "text/plain": [
       "no     39922\n",
       "yes     5289\n",
       "Name: y, dtype: int64"
      ]
     },
     "execution_count": 9,
     "metadata": {},
     "output_type": "execute_result"
    }
   ],
   "source": [
    "# To verify the data whether balanced or not\n",
    "df['y'].value_counts()"
   ]
  },
  {
   "cell_type": "code",
   "execution_count": 10,
   "id": "8c152bfb",
   "metadata": {},
   "outputs": [
    {
     "name": "stdout",
     "output_type": "stream",
     "text": [
      "% for \"no\":  88.29996681782988\n",
      "% for \"yes\":  11.700033182170113\n"
     ]
    }
   ],
   "source": [
    "#To Find the percentage of the data\n",
    "print('% for \"no\": ',((39916) / (39916+5289)) * 100 )\n",
    "print('% for \"yes\": ',((5289) / (39916+5289)) * 100 )"
   ]
  },
  {
   "cell_type": "markdown",
   "id": "381fdf06",
   "metadata": {},
   "source": [
    "# Data Preprocessing"
   ]
  },
  {
   "cell_type": "code",
   "execution_count": 11,
   "id": "c52db163",
   "metadata": {},
   "outputs": [
    {
     "data": {
      "text/plain": [
       "age               0\n",
       "job               0\n",
       "marital           0\n",
       "education_qual    0\n",
       "call_type         0\n",
       "day               0\n",
       "mon               0\n",
       "dur               0\n",
       "num_calls         0\n",
       "prev_outcome      0\n",
       "y                 0\n",
       "dtype: int64"
      ]
     },
     "execution_count": 11,
     "metadata": {},
     "output_type": "execute_result"
    }
   ],
   "source": [
    " # To find the Missing Values or Null Values\n",
    " df.isnull().sum()"
   ]
  },
  {
   "cell_type": "code",
   "execution_count": 12,
   "id": "c3b2d888",
   "metadata": {},
   "outputs": [
    {
     "data": {
      "text/plain": [
       "6"
      ]
     },
     "execution_count": 12,
     "metadata": {},
     "output_type": "execute_result"
    }
   ],
   "source": [
    "# To find the Duplicate Values\n",
    "df.duplicated().sum()"
   ]
  },
  {
   "cell_type": "code",
   "execution_count": 13,
   "id": "671f4ab8",
   "metadata": {},
   "outputs": [],
   "source": [
    "# DRop the Duplicates\n",
    "df = df.drop_duplicates()"
   ]
  },
  {
   "cell_type": "code",
   "execution_count": 14,
   "id": "3028be09",
   "metadata": {},
   "outputs": [
    {
     "data": {
      "text/plain": [
       "0"
      ]
     },
     "execution_count": 14,
     "metadata": {},
     "output_type": "execute_result"
    }
   ],
   "source": [
    "# To verify whether the data contains duplicates or not\n",
    "df.duplicated().sum()"
   ]
  },
  {
   "cell_type": "code",
   "execution_count": 15,
   "id": "d53faf5e",
   "metadata": {},
   "outputs": [
    {
     "data": {
      "text/plain": [
       "age                int64\n",
       "job               object\n",
       "marital           object\n",
       "education_qual    object\n",
       "call_type         object\n",
       "day                int64\n",
       "mon               object\n",
       "dur                int64\n",
       "num_calls          int64\n",
       "prev_outcome      object\n",
       "y                 object\n",
       "dtype: object"
      ]
     },
     "execution_count": 15,
     "metadata": {},
     "output_type": "execute_result"
    }
   ],
   "source": [
    "# To Verify the datatypes\n",
    "df.dtypes"
   ]
  },
  {
   "cell_type": "markdown",
   "id": "48348907",
   "metadata": {},
   "source": [
    "# To find the Categoical columns of Unique Values"
   ]
  },
  {
   "cell_type": "code",
   "execution_count": 16,
   "id": "130c99d3",
   "metadata": {},
   "outputs": [
    {
     "name": "stdout",
     "output_type": "stream",
     "text": [
      "Categorical of Jobs:  \n",
      "\n",
      "['management' 'technician' 'entrepreneur' 'blue-collar' 'unknown'\n",
      " 'retired' 'admin.' 'services' 'self-employed' 'unemployed' 'housemaid'\n",
      " 'student']\n"
     ]
    }
   ],
   "source": [
    "print(\"Categorical of Jobs:  \\n\")\n",
    "print(df['job'].unique())"
   ]
  },
  {
   "cell_type": "code",
   "execution_count": 17,
   "id": "19d0724a",
   "metadata": {},
   "outputs": [
    {
     "name": "stdout",
     "output_type": "stream",
     "text": [
      "Categorical Marital Satus:  \n",
      "\n",
      "['married' 'single' 'divorced']\n"
     ]
    }
   ],
   "source": [
    "print(\"Categorical Marital Satus:  \\n\")\n",
    "print(df['marital'].unique())"
   ]
  },
  {
   "cell_type": "code",
   "execution_count": 18,
   "id": "e933b497",
   "metadata": {},
   "outputs": [
    {
     "name": "stdout",
     "output_type": "stream",
     "text": [
      "Categorical of Eucational Qualuification:  \n",
      "\n",
      "['tertiary' 'secondary' 'unknown' 'primary']\n"
     ]
    }
   ],
   "source": [
    "print(\"Categorical of Eucational Qualuification:  \\n\")\n",
    "print(df['education_qual'].unique())"
   ]
  },
  {
   "cell_type": "code",
   "execution_count": 19,
   "id": "a46091ba",
   "metadata": {},
   "outputs": [
    {
     "name": "stdout",
     "output_type": "stream",
     "text": [
      "Categorical of Call Type:  \n",
      "\n",
      "['unknown' 'cellular' 'telephone']\n"
     ]
    }
   ],
   "source": [
    "print(\"Categorical of Call Type:  \\n\")\n",
    "print(df['call_type'].unique())"
   ]
  },
  {
   "cell_type": "code",
   "execution_count": 20,
   "id": "4ec830fb",
   "metadata": {},
   "outputs": [
    {
     "name": "stdout",
     "output_type": "stream",
     "text": [
      "Categorical of Months:  \n",
      "\n",
      "['may' 'jun' 'jul' 'aug' 'oct' 'nov' 'dec' 'jan' 'feb' 'mar' 'apr' 'sep']\n"
     ]
    }
   ],
   "source": [
    "print(\"Categorical of Months:  \\n\")\n",
    "print(df['mon'].unique())"
   ]
  },
  {
   "cell_type": "code",
   "execution_count": 21,
   "id": "e0150716",
   "metadata": {},
   "outputs": [
    {
     "name": "stdout",
     "output_type": "stream",
     "text": [
      "Categorical of Previous Outcomes:  \n",
      "\n",
      "['unknown' 'failure' 'other' 'success']\n"
     ]
    }
   ],
   "source": [
    "print(\"Categorical of Previous Outcomes:  \\n\")\n",
    "print(df['prev_outcome'].unique())"
   ]
  },
  {
   "cell_type": "code",
   "execution_count": 22,
   "id": "91ca18db",
   "metadata": {},
   "outputs": [
    {
     "name": "stdout",
     "output_type": "stream",
     "text": [
      "Categorical of Target Variable 'y' \n",
      "\n",
      "['no' 'yes']\n"
     ]
    }
   ],
   "source": [
    "print(\"Categorical of Target Variable 'y' \\n\")\n",
    "print(df['y'].unique())"
   ]
  },
  {
   "cell_type": "markdown",
   "id": "c0c7cc1e",
   "metadata": {},
   "source": [
    "# Exploaration of the dataset and replace the unknown values respectively."
   ]
  },
  {
   "cell_type": "code",
   "execution_count": 23,
   "id": "2108fe88",
   "metadata": {},
   "outputs": [
    {
     "data": {
      "text/html": [
       "<div>\n",
       "<style scoped>\n",
       "    .dataframe tbody tr th:only-of-type {\n",
       "        vertical-align: middle;\n",
       "    }\n",
       "\n",
       "    .dataframe tbody tr th {\n",
       "        vertical-align: top;\n",
       "    }\n",
       "\n",
       "    .dataframe thead th {\n",
       "        text-align: right;\n",
       "    }\n",
       "</style>\n",
       "<table border=\"1\" class=\"dataframe\">\n",
       "  <thead>\n",
       "    <tr style=\"text-align: right;\">\n",
       "      <th></th>\n",
       "      <th>age</th>\n",
       "      <th>job</th>\n",
       "      <th>marital</th>\n",
       "      <th>education_qual</th>\n",
       "      <th>call_type</th>\n",
       "      <th>day</th>\n",
       "      <th>mon</th>\n",
       "      <th>dur</th>\n",
       "      <th>num_calls</th>\n",
       "      <th>prev_outcome</th>\n",
       "      <th>y</th>\n",
       "      <th>target</th>\n",
       "    </tr>\n",
       "  </thead>\n",
       "  <tbody>\n",
       "    <tr>\n",
       "      <th>0</th>\n",
       "      <td>58</td>\n",
       "      <td>management</td>\n",
       "      <td>married</td>\n",
       "      <td>tertiary</td>\n",
       "      <td>unknown</td>\n",
       "      <td>5</td>\n",
       "      <td>may</td>\n",
       "      <td>261</td>\n",
       "      <td>1</td>\n",
       "      <td>unknown</td>\n",
       "      <td>no</td>\n",
       "      <td>0</td>\n",
       "    </tr>\n",
       "    <tr>\n",
       "      <th>1</th>\n",
       "      <td>44</td>\n",
       "      <td>technician</td>\n",
       "      <td>single</td>\n",
       "      <td>secondary</td>\n",
       "      <td>unknown</td>\n",
       "      <td>5</td>\n",
       "      <td>may</td>\n",
       "      <td>151</td>\n",
       "      <td>1</td>\n",
       "      <td>unknown</td>\n",
       "      <td>no</td>\n",
       "      <td>0</td>\n",
       "    </tr>\n",
       "    <tr>\n",
       "      <th>2</th>\n",
       "      <td>33</td>\n",
       "      <td>entrepreneur</td>\n",
       "      <td>married</td>\n",
       "      <td>secondary</td>\n",
       "      <td>unknown</td>\n",
       "      <td>5</td>\n",
       "      <td>may</td>\n",
       "      <td>76</td>\n",
       "      <td>1</td>\n",
       "      <td>unknown</td>\n",
       "      <td>no</td>\n",
       "      <td>0</td>\n",
       "    </tr>\n",
       "    <tr>\n",
       "      <th>3</th>\n",
       "      <td>47</td>\n",
       "      <td>blue-collar</td>\n",
       "      <td>married</td>\n",
       "      <td>unknown</td>\n",
       "      <td>unknown</td>\n",
       "      <td>5</td>\n",
       "      <td>may</td>\n",
       "      <td>92</td>\n",
       "      <td>1</td>\n",
       "      <td>unknown</td>\n",
       "      <td>no</td>\n",
       "      <td>0</td>\n",
       "    </tr>\n",
       "    <tr>\n",
       "      <th>4</th>\n",
       "      <td>33</td>\n",
       "      <td>unknown</td>\n",
       "      <td>single</td>\n",
       "      <td>unknown</td>\n",
       "      <td>unknown</td>\n",
       "      <td>5</td>\n",
       "      <td>may</td>\n",
       "      <td>198</td>\n",
       "      <td>1</td>\n",
       "      <td>unknown</td>\n",
       "      <td>no</td>\n",
       "      <td>0</td>\n",
       "    </tr>\n",
       "  </tbody>\n",
       "</table>\n",
       "</div>"
      ],
      "text/plain": [
       "   age           job  marital education_qual call_type  day  mon  dur  \\\n",
       "0   58    management  married       tertiary   unknown    5  may  261   \n",
       "1   44    technician   single      secondary   unknown    5  may  151   \n",
       "2   33  entrepreneur  married      secondary   unknown    5  may   76   \n",
       "3   47   blue-collar  married        unknown   unknown    5  may   92   \n",
       "4   33       unknown   single        unknown   unknown    5  may  198   \n",
       "\n",
       "   num_calls prev_outcome   y  target  \n",
       "0          1      unknown  no       0  \n",
       "1          1      unknown  no       0  \n",
       "2          1      unknown  no       0  \n",
       "3          1      unknown  no       0  \n",
       "4          1      unknown  no       0  "
      ]
     },
     "execution_count": 23,
     "metadata": {},
     "output_type": "execute_result"
    }
   ],
   "source": [
    "df['target'] = df[\"y\"].map({\"yes\":1 , \"no\": 0})\n",
    "df.head()"
   ]
  },
  {
   "cell_type": "markdown",
   "id": "99870fb9",
   "metadata": {},
   "source": [
    "Age"
   ]
  },
  {
   "cell_type": "code",
   "execution_count": 24,
   "id": "8f854864",
   "metadata": {},
   "outputs": [
    {
     "data": {
      "text/plain": [
       "age\n",
       "18    0.583333\n",
       "19    0.314286\n",
       "20    0.300000\n",
       "21    0.278481\n",
       "22    0.310078\n",
       "        ...   \n",
       "90    1.000000\n",
       "92    1.000000\n",
       "93    1.000000\n",
       "94    0.000000\n",
       "95    0.500000\n",
       "Name: target, Length: 77, dtype: float64"
      ]
     },
     "execution_count": 24,
     "metadata": {},
     "output_type": "execute_result"
    }
   ],
   "source": [
    "#Comparison with Target Vs Age\n",
    "df.groupby('age')['target'].mean()"
   ]
  },
  {
   "cell_type": "markdown",
   "id": "97367070",
   "metadata": {},
   "source": [
    "Job"
   ]
  },
  {
   "cell_type": "code",
   "execution_count": 25,
   "id": "59ca46dd",
   "metadata": {},
   "outputs": [
    {
     "data": {
      "text/plain": [
       "job\n",
       "admin.           0.122050\n",
       "blue-collar      0.072765\n",
       "entrepreneur     0.082717\n",
       "housemaid        0.087903\n",
       "management       0.137570\n",
       "retired          0.227915\n",
       "self-employed    0.118429\n",
       "services         0.088851\n",
       "student          0.286780\n",
       "technician       0.110585\n",
       "unemployed       0.155027\n",
       "unknown          0.118056\n",
       "Name: target, dtype: float64"
      ]
     },
     "execution_count": 25,
     "metadata": {},
     "output_type": "execute_result"
    }
   ],
   "source": [
    "#Comparison with Target Vs Job\n",
    "df.groupby('job')['target'].mean()"
   ]
  },
  {
   "cell_type": "code",
   "execution_count": 26,
   "id": "c4881107",
   "metadata": {},
   "outputs": [],
   "source": [
    "# To replace the unknown values as null\n",
    "df['job'] =df['job'].replace('unknown',np.nan)"
   ]
  },
  {
   "cell_type": "code",
   "execution_count": 27,
   "id": "caa937d8",
   "metadata": {},
   "outputs": [
    {
     "data": {
      "text/plain": [
       "288"
      ]
     },
     "execution_count": 27,
     "metadata": {},
     "output_type": "execute_result"
    }
   ],
   "source": [
    "# To sum the mo of null values in job columns\n",
    "df.job.isnull().sum()"
   ]
  },
  {
   "cell_type": "code",
   "execution_count": 28,
   "id": "8e45fee2",
   "metadata": {},
   "outputs": [],
   "source": [
    "# To drop the all the null values from the Job Cloumns\n",
    "df=df.dropna(subset=['job'])"
   ]
  },
  {
   "cell_type": "code",
   "execution_count": 29,
   "id": "8efe0601",
   "metadata": {},
   "outputs": [
    {
     "data": {
      "text/plain": [
       "0"
      ]
     },
     "execution_count": 29,
     "metadata": {},
     "output_type": "execute_result"
    }
   ],
   "source": [
    "# To verify the whether the job cloumns have null values or not\n",
    "df.job.isnull().sum()"
   ]
  },
  {
   "cell_type": "markdown",
   "id": "af252aad",
   "metadata": {},
   "source": [
    "Marital Status"
   ]
  },
  {
   "cell_type": "code",
   "execution_count": 30,
   "id": "ab6f86c7",
   "metadata": {},
   "outputs": [
    {
     "data": {
      "text/plain": [
       "marital\n",
       "divorced    0.119653\n",
       "married     0.101233\n",
       "single      0.149371\n",
       "Name: target, dtype: float64"
      ]
     },
     "execution_count": 30,
     "metadata": {},
     "output_type": "execute_result"
    }
   ],
   "source": [
    "# #Comparison with Target Vs Marital Status\n",
    "df.groupby('marital')['target'].mean()"
   ]
  },
  {
   "cell_type": "markdown",
   "id": "3c7dd3f0",
   "metadata": {},
   "source": [
    "Educational Qualification"
   ]
  },
  {
   "cell_type": "code",
   "execution_count": 31,
   "id": "9f1d1c88",
   "metadata": {},
   "outputs": [
    {
     "data": {
      "text/plain": [
       "education_qual\n",
       "primary      0.086483\n",
       "secondary    0.105543\n",
       "tertiary     0.150226\n",
       "unknown      0.135260\n",
       "Name: target, dtype: float64"
      ]
     },
     "execution_count": 31,
     "metadata": {},
     "output_type": "execute_result"
    }
   ],
   "source": [
    "# #Comparison with Target Vs Educational Qualification\n",
    "df.groupby('education_qual')['target'].mean()"
   ]
  },
  {
   "cell_type": "code",
   "execution_count": 32,
   "id": "a2768790",
   "metadata": {},
   "outputs": [
    {
     "name": "stdout",
     "output_type": "stream",
     "text": [
      "Percentage for \"Unknown\":  3.8372815189424188\n"
     ]
    }
   ],
   "source": [
    "# To find the unknown values percentage\n",
    "print('Percentage for \"Unknown\": ',((1730) / (23202+13301+6851+1730)) * 100 )"
   ]
  },
  {
   "cell_type": "code",
   "execution_count": 33,
   "id": "75ec98cd",
   "metadata": {},
   "outputs": [],
   "source": [
    "# To replace the unkown values as null\n",
    "df['education_qual'] =df['education_qual'].replace('unknown',np.nan)"
   ]
  },
  {
   "cell_type": "code",
   "execution_count": 34,
   "id": "1e621bed",
   "metadata": {},
   "outputs": [
    {
     "data": {
      "text/plain": [
       "1730"
      ]
     },
     "execution_count": 34,
     "metadata": {},
     "output_type": "execute_result"
    }
   ],
   "source": [
    "# To sum the null vlaues of educational coulmns\n",
    "df.education_qual.isnull().sum()"
   ]
  },
  {
   "cell_type": "code",
   "execution_count": 35,
   "id": "f218b279",
   "metadata": {},
   "outputs": [],
   "source": [
    "# To drop the all null values in the educational qualification cloumns\n",
    "df = df. dropna(subset=['education_qual'])"
   ]
  },
  {
   "cell_type": "code",
   "execution_count": 36,
   "id": "d30db639",
   "metadata": {},
   "outputs": [
    {
     "data": {
      "text/plain": [
       "0"
      ]
     },
     "execution_count": 36,
     "metadata": {},
     "output_type": "execute_result"
    }
   ],
   "source": [
    "# To verify the whether the educational qaulification cloumns have null values or not\n",
    "df.education_qual.isnull().sum()"
   ]
  },
  {
   "cell_type": "markdown",
   "id": "677faf73",
   "metadata": {},
   "source": [
    "Call Type"
   ]
  },
  {
   "cell_type": "code",
   "execution_count": 37,
   "id": "02fba6a9",
   "metadata": {},
   "outputs": [
    {
     "data": {
      "text/plain": [
       "call_type\n",
       "cellular     0.147572\n",
       "telephone    0.129918\n",
       "unknown      0.041358\n",
       "Name: target, dtype: float64"
      ]
     },
     "execution_count": 37,
     "metadata": {},
     "output_type": "execute_result"
    }
   ],
   "source": [
    "#Comparison with Target Vs CallType\n",
    "df.groupby('call_type')['target'].mean()"
   ]
  },
  {
   "cell_type": "code",
   "execution_count": 38,
   "id": "b443867a",
   "metadata": {},
   "outputs": [
    {
     "name": "stdout",
     "output_type": "stream",
     "text": [
      "Percentage for \"Unknown Call Type\":  22.501282333113505\n"
     ]
    }
   ],
   "source": [
    "# To find the percentage of unknown value for call type columns\n",
    "print('Percentage for \"Unknown Call Type\": ',((12283) / (29285+13020+12283)) * 100 )"
   ]
  },
  {
   "cell_type": "markdown",
   "id": "e0a244fe",
   "metadata": {},
   "source": [
    "Day"
   ]
  },
  {
   "cell_type": "code",
   "execution_count": 39,
   "id": "1a1b3581",
   "metadata": {},
   "outputs": [
    {
     "data": {
      "text/plain": [
       "day\n",
       "1     0.278689\n",
       "2     0.139179\n",
       "3     0.166506\n",
       "4     0.160350\n",
       "5     0.114143\n",
       "6     0.094111\n",
       "7     0.086832\n",
       "8     0.105802\n",
       "9     0.113284\n",
       "10    0.224206\n",
       "11    0.121689\n",
       "12    0.153696\n",
       "13    0.152387\n",
       "14    0.109305\n",
       "15    0.141298\n",
       "16    0.133734\n",
       "17    0.090812\n",
       "18    0.100584\n",
       "19    0.069444\n",
       "20    0.070396\n",
       "21    0.098929\n",
       "22    0.162286\n",
       "23    0.131111\n",
       "24    0.143192\n",
       "25    0.155556\n",
       "26    0.105634\n",
       "27    0.125933\n",
       "28    0.075331\n",
       "29    0.074052\n",
       "30    0.173531\n",
       "31    0.073702\n",
       "Name: target, dtype: float64"
      ]
     },
     "execution_count": 39,
     "metadata": {},
     "output_type": "execute_result"
    }
   ],
   "source": [
    "#Comparison with Target Vs Day\n",
    "df.groupby('day')['target'].mean()"
   ]
  },
  {
   "cell_type": "markdown",
   "id": "c5946114",
   "metadata": {},
   "source": [
    "Month"
   ]
  },
  {
   "cell_type": "code",
   "execution_count": 40,
   "id": "05c817de",
   "metadata": {},
   "outputs": [
    {
     "data": {
      "text/plain": [
       "mon\n",
       "apr    0.192553\n",
       "aug    0.109196\n",
       "dec    0.465000\n",
       "feb    0.165022\n",
       "jan    0.100152\n",
       "jul    0.088788\n",
       "jun    0.105062\n",
       "mar    0.537946\n",
       "may    0.067319\n",
       "nov    0.101510\n",
       "oct    0.430435\n",
       "sep    0.471805\n",
       "Name: target, dtype: float64"
      ]
     },
     "execution_count": 40,
     "metadata": {},
     "output_type": "execute_result"
    }
   ],
   "source": [
    "#Comparison with Target Vs Month\n",
    "df.groupby('mon')['target'].mean()"
   ]
  },
  {
   "cell_type": "markdown",
   "id": "8010cf66",
   "metadata": {},
   "source": [
    "Duration"
   ]
  },
  {
   "cell_type": "code",
   "execution_count": 41,
   "id": "c5a03414",
   "metadata": {},
   "outputs": [
    {
     "data": {
      "text/plain": [
       "dur\n",
       "0       0.0\n",
       "1       0.0\n",
       "2       0.0\n",
       "3       0.0\n",
       "4       0.0\n",
       "       ... \n",
       "3366    0.0\n",
       "3422    0.0\n",
       "3785    0.0\n",
       "3881    1.0\n",
       "4918    0.0\n",
       "Name: target, Length: 1558, dtype: float64"
      ]
     },
     "execution_count": 41,
     "metadata": {},
     "output_type": "execute_result"
    }
   ],
   "source": [
    "#Comparison with Target Vs Duration\n",
    "df.groupby('dur')['target'].mean()"
   ]
  },
  {
   "cell_type": "markdown",
   "id": "25a6dd07",
   "metadata": {},
   "source": [
    "Number of Calls"
   ]
  },
  {
   "cell_type": "code",
   "execution_count": 42,
   "id": "eca165f2",
   "metadata": {},
   "outputs": [
    {
     "data": {
      "text/plain": [
       "num_calls\n",
       "1     0.145221\n",
       "2     0.110841\n",
       "3     0.111237\n",
       "4     0.088902\n",
       "5     0.079859\n",
       "6     0.072123\n",
       "7     0.064655\n",
       "8     0.058140\n",
       "9     0.065147\n",
       "10    0.050980\n",
       "11    0.078947\n",
       "12    0.026846\n",
       "13    0.048780\n",
       "14    0.047059\n",
       "15    0.049383\n",
       "16    0.026667\n",
       "17    0.076923\n",
       "18    0.000000\n",
       "19    0.000000\n",
       "20    0.023810\n",
       "21    0.030303\n",
       "22    0.000000\n",
       "23    0.000000\n",
       "24    0.050000\n",
       "25    0.000000\n",
       "26    0.000000\n",
       "27    0.000000\n",
       "28    0.000000\n",
       "29    0.076923\n",
       "30    0.000000\n",
       "31    0.000000\n",
       "32    0.111111\n",
       "33    0.000000\n",
       "34    0.000000\n",
       "35    0.000000\n",
       "36    0.000000\n",
       "37    0.000000\n",
       "38    0.000000\n",
       "39    0.000000\n",
       "41    0.000000\n",
       "43    0.000000\n",
       "44    0.000000\n",
       "46    0.000000\n",
       "50    0.000000\n",
       "51    0.000000\n",
       "55    0.000000\n",
       "58    0.000000\n",
       "Name: target, dtype: float64"
      ]
     },
     "execution_count": 42,
     "metadata": {},
     "output_type": "execute_result"
    }
   ],
   "source": [
    "#Comparison with Target Vs No of Calls\n",
    "df.groupby('num_calls')['target'].mean()"
   ]
  },
  {
   "cell_type": "markdown",
   "id": "3260cd22",
   "metadata": {},
   "source": [
    "Previous Outcomes"
   ]
  },
  {
   "cell_type": "code",
   "execution_count": 43,
   "id": "ca0fdcce",
   "metadata": {},
   "outputs": [
    {
     "data": {
      "text/plain": [
       "prev_outcome\n",
       "failure    0.124655\n",
       "other      0.165163\n",
       "success    0.643961\n",
       "unknown    0.091383\n",
       "Name: target, dtype: float64"
      ]
     },
     "execution_count": 43,
     "metadata": {},
     "output_type": "execute_result"
    }
   ],
   "source": [
    "#Comparison with Target Vs Previous Outcomes\n",
    "df.groupby('prev_outcome')['target'].mean()"
   ]
  },
  {
   "cell_type": "code",
   "execution_count": 44,
   "id": "4c88589a",
   "metadata": {},
   "outputs": [
    {
     "name": "stdout",
     "output_type": "stream",
     "text": [
      "Percentage for \"Previous Outcomnes Unknown Value\":  81.69124968161715\n"
     ]
    }
   ],
   "source": [
    "#To Find the Previous outcomes unknown value\n",
    "print('Percentage for \"Previous Outcomnes Unknown Value\": ',((35280) / (35280+4709+1774+1424)) * 100 )"
   ]
  },
  {
   "cell_type": "markdown",
   "id": "7f1b03df",
   "metadata": {},
   "source": [
    "Target Variable Y"
   ]
  },
  {
   "cell_type": "code",
   "execution_count": 45,
   "id": "e498baea",
   "metadata": {},
   "outputs": [
    {
     "data": {
      "text/plain": [
       "no     38166\n",
       "yes     5021\n",
       "Name: y, dtype: int64"
      ]
     },
     "execution_count": 45,
     "metadata": {},
     "output_type": "execute_result"
    }
   ],
   "source": [
    "# To find the count of target variable Y\n",
    "df.y.value_counts()"
   ]
  },
  {
   "cell_type": "code",
   "execution_count": 46,
   "id": "5acd371d",
   "metadata": {},
   "outputs": [
    {
     "name": "stdout",
     "output_type": "stream",
     "text": [
      "<class 'pandas.core.frame.DataFrame'>\n",
      "Int64Index: 43187 entries, 0 to 45210\n",
      "Data columns (total 12 columns):\n",
      " #   Column          Non-Null Count  Dtype \n",
      "---  ------          --------------  ----- \n",
      " 0   age             43187 non-null  int64 \n",
      " 1   job             43187 non-null  object\n",
      " 2   marital         43187 non-null  object\n",
      " 3   education_qual  43187 non-null  object\n",
      " 4   call_type       43187 non-null  object\n",
      " 5   day             43187 non-null  int64 \n",
      " 6   mon             43187 non-null  object\n",
      " 7   dur             43187 non-null  int64 \n",
      " 8   num_calls       43187 non-null  int64 \n",
      " 9   prev_outcome    43187 non-null  object\n",
      " 10  y               43187 non-null  object\n",
      " 11  target          43187 non-null  int64 \n",
      "dtypes: int64(5), object(7)\n",
      "memory usage: 4.3+ MB\n"
     ]
    }
   ],
   "source": [
    "df.info()"
   ]
  },
  {
   "cell_type": "markdown",
   "id": "59925d97",
   "metadata": {},
   "source": [
    "# Outlier Detection"
   ]
  },
  {
   "cell_type": "markdown",
   "id": "fcbca8f7",
   "metadata": {},
   "source": [
    "Age"
   ]
  },
  {
   "cell_type": "code",
   "execution_count": 47,
   "id": "e2c169a0",
   "metadata": {},
   "outputs": [
    {
     "data": {
      "text/plain": [
       "<AxesSubplot:xlabel='age'>"
      ]
     },
     "execution_count": 47,
     "metadata": {},
     "output_type": "execute_result"
    },
    {
     "data": {
      "image/png": "[encoded data removed]",
      "text/plain": [
       "<Figure size 432x288 with 1 Axes>"
      ]
     },
     "metadata": {},
     "output_type": "display_data"
    }
   ],
   "source": [
    "#Outlier Detuction using vertical boxplot by a categorical variable 'age'\n",
    "sns.set(style=\"whitegrid\")\n",
    "sns.boxplot(x=df['age'])"
   ]
  },
  {
   "cell_type": "markdown",
   "id": "de120f7f",
   "metadata": {},
   "source": [
    "IQR"
   ]
  },
  {
   "cell_type": "code",
   "execution_count": 48,
   "id": "4e4afe07",
   "metadata": {},
   "outputs": [
    {
     "name": "stdout",
     "output_type": "stream",
     "text": [
      "Upper Age IQR: 70.5 Lower Age IQR : 10.5\n"
     ]
    }
   ],
   "source": [
    "#To detecting anomalies from Age column\n",
    "q1,q3=np.percentile(df[\"age\"],[25,75])\n",
    "IQR=q3-q1\n",
    "upper=q3+1.5*IQR\n",
    "lower=q1-1.5*IQR\n",
    "print(\"Upper Age IQR:\",upper,\"Lower Age IQR :\", lower)"
   ]
  },
  {
   "cell_type": "code",
   "execution_count": 49,
   "id": "c035f4d3",
   "metadata": {},
   "outputs": [],
   "source": [
    "df.age = df.age.clip(10.5,70.5)"
   ]
  },
  {
   "cell_type": "code",
   "execution_count": 50,
   "id": "a0893c44",
   "metadata": {},
   "outputs": [],
   "source": [
    "#Trimming anomalies from Variable 'Age' & Capping the same\n",
    "df.age = df.age.clip(10.5,70.5)"
   ]
  },
  {
   "cell_type": "code",
   "execution_count": 51,
   "id": "ddd0b4af",
   "metadata": {},
   "outputs": [
    {
     "data": {
      "text/plain": [
       "count    43187.000000\n",
       "mean        40.702549\n",
       "std         10.305239\n",
       "min         18.000000\n",
       "25%         33.000000\n",
       "50%         39.000000\n",
       "75%         48.000000\n",
       "max         70.500000\n",
       "Name: age, dtype: float64"
      ]
     },
     "execution_count": 51,
     "metadata": {},
     "output_type": "execute_result"
    }
   ],
   "source": [
    "df.age.describe()"
   ]
  },
  {
   "cell_type": "code",
   "execution_count": 52,
   "id": "2b7203ec",
   "metadata": {},
   "outputs": [
    {
     "data": {
      "text/plain": [
       "<AxesSubplot:xlabel='age'>"
      ]
     },
     "execution_count": 52,
     "metadata": {},
     "output_type": "execute_result"
    },
    {
     "data": {
      "image/png": "[encoded data removed]",
      "text/plain": [
       "<Figure size 432x288 with 1 Axes>"
      ]
     },
     "metadata": {},
     "output_type": "display_data"
    }
   ],
   "source": [
    "# To verify the after anomalies Trimming.\n",
    "sns.set(style=\"whitegrid\")\n",
    "sns.boxplot(x=df['age'])"
   ]
  },
  {
   "cell_type": "markdown",
   "id": "ace8d0b9",
   "metadata": {},
   "source": [
    "Day"
   ]
  },
  {
   "cell_type": "code",
   "execution_count": 53,
   "id": "90d8254a",
   "metadata": {},
   "outputs": [
    {
     "data": {
      "text/plain": [
       "<AxesSubplot:xlabel='day'>"
      ]
     },
     "execution_count": 53,
     "metadata": {},
     "output_type": "execute_result"
    },
    {
     "data": {
      "image/png": "[encoded data removed]",
      "text/plain": [
       "<Figure size 432x288 with 1 Axes>"
      ]
     },
     "metadata": {},
     "output_type": "display_data"
    }
   ],
   "source": [
    "#Outlier Detuction using vertical boxplot by a categorical variable 'day'\n",
    "sns.set(style=\"whitegrid\")\n",
    "sns.boxplot(x=df['day'])"
   ]
  },
  {
   "cell_type": "markdown",
   "id": "67e51f26",
   "metadata": {},
   "source": [
    "In the 'day' boxplot doesn't have any anomalies."
   ]
  },
  {
   "cell_type": "markdown",
   "id": "85761e10",
   "metadata": {},
   "source": [
    "Duration"
   ]
  },
  {
   "cell_type": "code",
   "execution_count": 54,
   "id": "38cf24ad",
   "metadata": {},
   "outputs": [
    {
     "data": {
      "text/plain": [
       "<AxesSubplot:xlabel='dur'>"
      ]
     },
     "execution_count": 54,
     "metadata": {},
     "output_type": "execute_result"
    },
    {
     "data": {
      "image/png": "[encoded data removed]",
      "text/plain": [
       "<Figure size 432x288 with 1 Axes>"
      ]
     },
     "metadata": {},
     "output_type": "display_data"
    }
   ],
   "source": [
    "#Outlier Detuction using vertical boxplot by a categorical variable 'duration'\n",
    "sns.set(style=\"whitegrid\")\n",
    "sns.boxplot(x=df['dur'])"
   ]
  },
  {
   "cell_type": "markdown",
   "id": "307b531f",
   "metadata": {},
   "source": [
    "IQR"
   ]
  },
  {
   "cell_type": "code",
   "execution_count": 55,
   "id": "c9f220b4",
   "metadata": {},
   "outputs": [
    {
     "name": "stdout",
     "output_type": "stream",
     "text": [
      "Upper bound: 640.5 Lower bound : -219.5\n"
     ]
    }
   ],
   "source": [
    "#To detecting anomalies from duration column\n",
    "q1,q3=np.percentile(df[\"dur\"],[25,75])\n",
    "IQR=q3-q1\n",
    "upper=q3+1.5*IQR\n",
    "lower=q1-1.5*IQR\n",
    "print(\"Upper bound:\",upper,\"Lower bound :\", lower)"
   ]
  },
  {
   "cell_type": "code",
   "execution_count": 56,
   "id": "ec3f2c22",
   "metadata": {},
   "outputs": [
    {
     "data": {
      "text/plain": [
       "count    43187.000000\n",
       "mean       234.788038\n",
       "std        176.240001\n",
       "min          0.000000\n",
       "25%        103.000000\n",
       "50%        180.000000\n",
       "75%        318.000000\n",
       "max        640.500000\n",
       "Name: dur, dtype: float64"
      ]
     },
     "execution_count": 56,
     "metadata": {},
     "output_type": "execute_result"
    }
   ],
   "source": [
    "#Trimming anomalies from Variable 'duration' & Capping the same\n",
    "df.dur = df.dur.clip(-219.5,640.5)\n",
    "df.dur.describe()"
   ]
  },
  {
   "cell_type": "code",
   "execution_count": 57,
   "id": "7bda074c",
   "metadata": {},
   "outputs": [
    {
     "data": {
      "text/plain": [
       "<AxesSubplot:xlabel='dur'>"
      ]
     },
     "execution_count": 57,
     "metadata": {},
     "output_type": "execute_result"
    },
    {
     "data": {
      "image/png": "[encoded data removed]",
      "text/plain": [
       "<Figure size 432x288 with 1 Axes>"
      ]
     },
     "metadata": {},
     "output_type": "display_data"
    }
   ],
   "source": [
    "#To verify the after anomalies Trimming.\n",
    "sns.set(style=\"whitegrid\")\n",
    "sns.boxplot(x=df['dur'])"
   ]
  },
  {
   "cell_type": "markdown",
   "id": "22afe56c",
   "metadata": {},
   "source": [
    "No of Calls"
   ]
  },
  {
   "cell_type": "code",
   "execution_count": 58,
   "id": "d200c896",
   "metadata": {},
   "outputs": [
    {
     "data": {
      "text/plain": [
       "<AxesSubplot:xlabel='num_calls'>"
      ]
     },
     "execution_count": 58,
     "metadata": {},
     "output_type": "execute_result"
    },
    {
     "data": {
      "image/png": "[encoded data removed]",
      "text/plain": [
       "<Figure size 432x288 with 1 Axes>"
      ]
     },
     "metadata": {},
     "output_type": "display_data"
    }
   ],
   "source": [
    "#Outlier Detuction using vertical boxplot by a categorical variable 'no of calls'\n",
    "sns.set(style=\"whitegrid\")\n",
    "sns.boxplot(df['num_calls'])"
   ]
  },
  {
   "cell_type": "markdown",
   "id": "6e36e3f7",
   "metadata": {},
   "source": [
    "IQR"
   ]
  },
  {
   "cell_type": "code",
   "execution_count": 59,
   "id": "5e77c62b",
   "metadata": {},
   "outputs": [
    {
     "name": "stdout",
     "output_type": "stream",
     "text": [
      "Upper bound: 6.0 Lower bound : -2.0\n"
     ]
    }
   ],
   "source": [
    "#To detecting anomalies from no of calls column\n",
    "q1,q3=np.percentile(df[\"num_calls\"],[25,75])\n",
    "IQR=q3-q1\n",
    "upper=q3+1.5*IQR\n",
    "lower=q1-1.5*IQR\n",
    "print(\"Upper bound:\",upper,\"Lower bound :\", lower)"
   ]
  },
  {
   "cell_type": "code",
   "execution_count": 60,
   "id": "dc0ed29c",
   "metadata": {},
   "outputs": [
    {
     "data": {
      "text/plain": [
       "count    43187.000000\n",
       "mean         2.393081\n",
       "std          1.598892\n",
       "min          1.000000\n",
       "25%          1.000000\n",
       "50%          2.000000\n",
       "75%          3.000000\n",
       "max          6.000000\n",
       "Name: num_calls, dtype: float64"
      ]
     },
     "execution_count": 60,
     "metadata": {},
     "output_type": "execute_result"
    }
   ],
   "source": [
    "#Trimming anomalies from Variable 'no of calls' & Capping the same\n",
    "df.num_calls = df.num_calls.clip(-2,6.0)\n",
    "df.num_calls.describe()"
   ]
  },
  {
   "cell_type": "code",
   "execution_count": 61,
   "id": "51251c8b",
   "metadata": {},
   "outputs": [
    {
     "data": {
      "text/plain": [
       "<AxesSubplot:xlabel='num_calls'>"
      ]
     },
     "execution_count": 61,
     "metadata": {},
     "output_type": "execute_result"
    },
    {
     "data": {
      "image/png": "[encoded data removed]",
      "text/plain": [
       "<Figure size 432x288 with 1 Axes>"
      ]
     },
     "metadata": {},
     "output_type": "display_data"
    }
   ],
   "source": [
    "#To verify the after anomalies Trimming.\n",
    "sns.set(style=\"whitegrid\")\n",
    "sns.boxplot(x=df['num_calls'])"
   ]
  },
  {
   "cell_type": "markdown",
   "id": "e24fcb93",
   "metadata": {},
   "source": [
    "# EDA Multivariate Analysis"
   ]
  },
  {
   "cell_type": "markdown",
   "id": "1a953bfc",
   "metadata": {},
   "source": [
    "Its looks at more than two variables. \n",
    "Multivariate analysis is one of the most useful methods to determine relationships and analyze patterns for any dataset.\n",
    "Heat Map gives the correlation between the variables, whether it has a positive or negative correlation."
   ]
  },
  {
   "cell_type": "code",
   "execution_count": 62,
   "id": "024f1bfd",
   "metadata": {},
   "outputs": [],
   "source": [
    "df['y'].replace('no', 0,inplace=True)\n",
    "df['y'].replace('yes', 1,inplace=True)"
   ]
  },
  {
   "cell_type": "code",
   "execution_count": 63,
   "id": "12311d5f",
   "metadata": {},
   "outputs": [
    {
     "data": {
      "text/plain": [
       "<AxesSubplot:>"
      ]
     },
     "execution_count": 63,
     "metadata": {},
     "output_type": "execute_result"
    },
    {
     "data": {
      "image/png": "[encoded data removed]",
      "text/plain": [
       "<Figure size 1440x720 with 2 Axes>"
      ]
     },
     "metadata": {},
     "output_type": "display_data"
    }
   ],
   "source": [
    "corr = df.corr()\n",
    "mask = np.array(corr)\n",
    "mask[np.tril_indices_from(mask)] = False\n",
    "fig,ax= plt.subplots()\n",
    "fig.set_size_inches(20,10)\n",
    "sns.heatmap(corr, mask=mask,vmax=.9, square=True,annot=True, cmap=\"magma\")"
   ]
  },
  {
   "cell_type": "markdown",
   "id": "27e1e140",
   "metadata": {},
   "source": [
    "# Encoding"
   ]
  },
  {
   "cell_type": "markdown",
   "id": "edaedea5",
   "metadata": {},
   "source": [
    "Encoding leads to a better model and most algorithms cannot handle the categorical variables unless they are converted into a numerical value."
   ]
  },
  {
   "cell_type": "code",
   "execution_count": 64,
   "id": "b6811697",
   "metadata": {},
   "outputs": [
    {
     "data": {
      "text/plain": [
       "Index(['age', 'job', 'marital', 'education_qual', 'call_type', 'day', 'mon',\n",
       "       'dur', 'num_calls', 'prev_outcome', 'y', 'target'],\n",
       "      dtype='object')"
      ]
     },
     "execution_count": 64,
     "metadata": {},
     "output_type": "execute_result"
    }
   ],
   "source": [
    "df.columns"
   ]
  },
  {
   "cell_type": "markdown",
   "id": "485ee6f8",
   "metadata": {},
   "source": [
    "Job"
   ]
  },
  {
   "cell_type": "code",
   "execution_count": 65,
   "id": "0ca6c62c",
   "metadata": {},
   "outputs": [
    {
     "data": {
      "text/html": [
       "<div>\n",
       "<style scoped>\n",
       "    .dataframe tbody tr th:only-of-type {\n",
       "        vertical-align: middle;\n",
       "    }\n",
       "\n",
       "    .dataframe tbody tr th {\n",
       "        vertical-align: top;\n",
       "    }\n",
       "\n",
       "    .dataframe thead th {\n",
       "        text-align: right;\n",
       "    }\n",
       "</style>\n",
       "<table border=\"1\" class=\"dataframe\">\n",
       "  <thead>\n",
       "    <tr style=\"text-align: right;\">\n",
       "      <th></th>\n",
       "      <th>age</th>\n",
       "      <th>job</th>\n",
       "      <th>marital</th>\n",
       "      <th>education_qual</th>\n",
       "      <th>call_type</th>\n",
       "      <th>day</th>\n",
       "      <th>mon</th>\n",
       "      <th>dur</th>\n",
       "      <th>num_calls</th>\n",
       "      <th>prev_outcome</th>\n",
       "      <th>y</th>\n",
       "      <th>target</th>\n",
       "    </tr>\n",
       "  </thead>\n",
       "  <tbody>\n",
       "    <tr>\n",
       "      <th>0</th>\n",
       "      <td>58.0</td>\n",
       "      <td>8</td>\n",
       "      <td>married</td>\n",
       "      <td>tertiary</td>\n",
       "      <td>unknown</td>\n",
       "      <td>5</td>\n",
       "      <td>may</td>\n",
       "      <td>261.0</td>\n",
       "      <td>1.0</td>\n",
       "      <td>unknown</td>\n",
       "      <td>0</td>\n",
       "      <td>0</td>\n",
       "    </tr>\n",
       "    <tr>\n",
       "      <th>1</th>\n",
       "      <td>44.0</td>\n",
       "      <td>5</td>\n",
       "      <td>single</td>\n",
       "      <td>secondary</td>\n",
       "      <td>unknown</td>\n",
       "      <td>5</td>\n",
       "      <td>may</td>\n",
       "      <td>151.0</td>\n",
       "      <td>1.0</td>\n",
       "      <td>unknown</td>\n",
       "      <td>0</td>\n",
       "      <td>0</td>\n",
       "    </tr>\n",
       "    <tr>\n",
       "      <th>2</th>\n",
       "      <td>33.0</td>\n",
       "      <td>2</td>\n",
       "      <td>married</td>\n",
       "      <td>secondary</td>\n",
       "      <td>unknown</td>\n",
       "      <td>5</td>\n",
       "      <td>may</td>\n",
       "      <td>76.0</td>\n",
       "      <td>1.0</td>\n",
       "      <td>unknown</td>\n",
       "      <td>0</td>\n",
       "      <td>0</td>\n",
       "    </tr>\n",
       "    <tr>\n",
       "      <th>5</th>\n",
       "      <td>35.0</td>\n",
       "      <td>8</td>\n",
       "      <td>married</td>\n",
       "      <td>tertiary</td>\n",
       "      <td>unknown</td>\n",
       "      <td>5</td>\n",
       "      <td>may</td>\n",
       "      <td>139.0</td>\n",
       "      <td>1.0</td>\n",
       "      <td>unknown</td>\n",
       "      <td>0</td>\n",
       "      <td>0</td>\n",
       "    </tr>\n",
       "    <tr>\n",
       "      <th>6</th>\n",
       "      <td>28.0</td>\n",
       "      <td>8</td>\n",
       "      <td>single</td>\n",
       "      <td>tertiary</td>\n",
       "      <td>unknown</td>\n",
       "      <td>5</td>\n",
       "      <td>may</td>\n",
       "      <td>217.0</td>\n",
       "      <td>1.0</td>\n",
       "      <td>unknown</td>\n",
       "      <td>0</td>\n",
       "      <td>0</td>\n",
       "    </tr>\n",
       "  </tbody>\n",
       "</table>\n",
       "</div>"
      ],
      "text/plain": [
       "    age  job  marital education_qual call_type  day  mon    dur  num_calls  \\\n",
       "0  58.0    8  married       tertiary   unknown    5  may  261.0        1.0   \n",
       "1  44.0    5   single      secondary   unknown    5  may  151.0        1.0   \n",
       "2  33.0    2  married      secondary   unknown    5  may   76.0        1.0   \n",
       "5  35.0    8  married       tertiary   unknown    5  may  139.0        1.0   \n",
       "6  28.0    8   single       tertiary   unknown    5  may  217.0        1.0   \n",
       "\n",
       "  prev_outcome  y  target  \n",
       "0      unknown  0       0  \n",
       "1      unknown  0       0  \n",
       "2      unknown  0       0  \n",
       "5      unknown  0       0  \n",
       "6      unknown  0       0  "
      ]
     },
     "execution_count": 65,
     "metadata": {},
     "output_type": "execute_result"
    }
   ],
   "source": [
    "#Encoding for job column (Label Encoding)\n",
    "df['job']=df['job'].map({'blue-collar':1,'entrepreneur':2,'services':3,'housemaid':4,'technician':5,'self-employed':6,'admin.':7,'management':8, 'unemployed':9, 'retired': 10, 'student' : 11})   \n",
    "df.head()"
   ]
  },
  {
   "cell_type": "markdown",
   "id": "b0a08abf",
   "metadata": {},
   "source": [
    "Marital Status"
   ]
  },
  {
   "cell_type": "code",
   "execution_count": 66,
   "id": "d8f66c0e",
   "metadata": {},
   "outputs": [
    {
     "data": {
      "text/html": [
       "<div>\n",
       "<style scoped>\n",
       "    .dataframe tbody tr th:only-of-type {\n",
       "        vertical-align: middle;\n",
       "    }\n",
       "\n",
       "    .dataframe tbody tr th {\n",
       "        vertical-align: top;\n",
       "    }\n",
       "\n",
       "    .dataframe thead th {\n",
       "        text-align: right;\n",
       "    }\n",
       "</style>\n",
       "<table border=\"1\" class=\"dataframe\">\n",
       "  <thead>\n",
       "    <tr style=\"text-align: right;\">\n",
       "      <th></th>\n",
       "      <th>age</th>\n",
       "      <th>job</th>\n",
       "      <th>marital</th>\n",
       "      <th>education_qual</th>\n",
       "      <th>call_type</th>\n",
       "      <th>day</th>\n",
       "      <th>mon</th>\n",
       "      <th>dur</th>\n",
       "      <th>num_calls</th>\n",
       "      <th>prev_outcome</th>\n",
       "      <th>y</th>\n",
       "      <th>target</th>\n",
       "    </tr>\n",
       "  </thead>\n",
       "  <tbody>\n",
       "    <tr>\n",
       "      <th>0</th>\n",
       "      <td>58.0</td>\n",
       "      <td>8</td>\n",
       "      <td>1</td>\n",
       "      <td>tertiary</td>\n",
       "      <td>unknown</td>\n",
       "      <td>5</td>\n",
       "      <td>may</td>\n",
       "      <td>261.0</td>\n",
       "      <td>1.0</td>\n",
       "      <td>unknown</td>\n",
       "      <td>0</td>\n",
       "      <td>0</td>\n",
       "    </tr>\n",
       "    <tr>\n",
       "      <th>1</th>\n",
       "      <td>44.0</td>\n",
       "      <td>5</td>\n",
       "      <td>3</td>\n",
       "      <td>secondary</td>\n",
       "      <td>unknown</td>\n",
       "      <td>5</td>\n",
       "      <td>may</td>\n",
       "      <td>151.0</td>\n",
       "      <td>1.0</td>\n",
       "      <td>unknown</td>\n",
       "      <td>0</td>\n",
       "      <td>0</td>\n",
       "    </tr>\n",
       "    <tr>\n",
       "      <th>2</th>\n",
       "      <td>33.0</td>\n",
       "      <td>2</td>\n",
       "      <td>1</td>\n",
       "      <td>secondary</td>\n",
       "      <td>unknown</td>\n",
       "      <td>5</td>\n",
       "      <td>may</td>\n",
       "      <td>76.0</td>\n",
       "      <td>1.0</td>\n",
       "      <td>unknown</td>\n",
       "      <td>0</td>\n",
       "      <td>0</td>\n",
       "    </tr>\n",
       "    <tr>\n",
       "      <th>5</th>\n",
       "      <td>35.0</td>\n",
       "      <td>8</td>\n",
       "      <td>1</td>\n",
       "      <td>tertiary</td>\n",
       "      <td>unknown</td>\n",
       "      <td>5</td>\n",
       "      <td>may</td>\n",
       "      <td>139.0</td>\n",
       "      <td>1.0</td>\n",
       "      <td>unknown</td>\n",
       "      <td>0</td>\n",
       "      <td>0</td>\n",
       "    </tr>\n",
       "    <tr>\n",
       "      <th>6</th>\n",
       "      <td>28.0</td>\n",
       "      <td>8</td>\n",
       "      <td>3</td>\n",
       "      <td>tertiary</td>\n",
       "      <td>unknown</td>\n",
       "      <td>5</td>\n",
       "      <td>may</td>\n",
       "      <td>217.0</td>\n",
       "      <td>1.0</td>\n",
       "      <td>unknown</td>\n",
       "      <td>0</td>\n",
       "      <td>0</td>\n",
       "    </tr>\n",
       "  </tbody>\n",
       "</table>\n",
       "</div>"
      ],
      "text/plain": [
       "    age  job  marital education_qual call_type  day  mon    dur  num_calls  \\\n",
       "0  58.0    8        1       tertiary   unknown    5  may  261.0        1.0   \n",
       "1  44.0    5        3      secondary   unknown    5  may  151.0        1.0   \n",
       "2  33.0    2        1      secondary   unknown    5  may   76.0        1.0   \n",
       "5  35.0    8        1       tertiary   unknown    5  may  139.0        1.0   \n",
       "6  28.0    8        3       tertiary   unknown    5  may  217.0        1.0   \n",
       "\n",
       "  prev_outcome  y  target  \n",
       "0      unknown  0       0  \n",
       "1      unknown  0       0  \n",
       "2      unknown  0       0  \n",
       "5      unknown  0       0  \n",
       "6      unknown  0       0  "
      ]
     },
     "execution_count": 66,
     "metadata": {},
     "output_type": "execute_result"
    }
   ],
   "source": [
    "#Encoding for Marital status (Label Encoding)\n",
    "df['marital'] =df['marital'].map({'married': 1, 'divorced': 2, 'single' : 3})\n",
    "df.head()"
   ]
  },
  {
   "cell_type": "markdown",
   "id": "3c382b26",
   "metadata": {},
   "source": [
    "Educational Qulaification"
   ]
  },
  {
   "cell_type": "code",
   "execution_count": 67,
   "id": "447b1ab4",
   "metadata": {},
   "outputs": [
    {
     "data": {
      "text/html": [
       "<div>\n",
       "<style scoped>\n",
       "    .dataframe tbody tr th:only-of-type {\n",
       "        vertical-align: middle;\n",
       "    }\n",
       "\n",
       "    .dataframe tbody tr th {\n",
       "        vertical-align: top;\n",
       "    }\n",
       "\n",
       "    .dataframe thead th {\n",
       "        text-align: right;\n",
       "    }\n",
       "</style>\n",
       "<table border=\"1\" class=\"dataframe\">\n",
       "  <thead>\n",
       "    <tr style=\"text-align: right;\">\n",
       "      <th></th>\n",
       "      <th>age</th>\n",
       "      <th>job</th>\n",
       "      <th>marital</th>\n",
       "      <th>education_qual</th>\n",
       "      <th>call_type</th>\n",
       "      <th>day</th>\n",
       "      <th>mon</th>\n",
       "      <th>dur</th>\n",
       "      <th>num_calls</th>\n",
       "      <th>prev_outcome</th>\n",
       "      <th>y</th>\n",
       "      <th>target</th>\n",
       "    </tr>\n",
       "  </thead>\n",
       "  <tbody>\n",
       "    <tr>\n",
       "      <th>0</th>\n",
       "      <td>58.0</td>\n",
       "      <td>8</td>\n",
       "      <td>1</td>\n",
       "      <td>3</td>\n",
       "      <td>unknown</td>\n",
       "      <td>5</td>\n",
       "      <td>may</td>\n",
       "      <td>261.0</td>\n",
       "      <td>1.0</td>\n",
       "      <td>unknown</td>\n",
       "      <td>0</td>\n",
       "      <td>0</td>\n",
       "    </tr>\n",
       "    <tr>\n",
       "      <th>1</th>\n",
       "      <td>44.0</td>\n",
       "      <td>5</td>\n",
       "      <td>3</td>\n",
       "      <td>2</td>\n",
       "      <td>unknown</td>\n",
       "      <td>5</td>\n",
       "      <td>may</td>\n",
       "      <td>151.0</td>\n",
       "      <td>1.0</td>\n",
       "      <td>unknown</td>\n",
       "      <td>0</td>\n",
       "      <td>0</td>\n",
       "    </tr>\n",
       "    <tr>\n",
       "      <th>2</th>\n",
       "      <td>33.0</td>\n",
       "      <td>2</td>\n",
       "      <td>1</td>\n",
       "      <td>2</td>\n",
       "      <td>unknown</td>\n",
       "      <td>5</td>\n",
       "      <td>may</td>\n",
       "      <td>76.0</td>\n",
       "      <td>1.0</td>\n",
       "      <td>unknown</td>\n",
       "      <td>0</td>\n",
       "      <td>0</td>\n",
       "    </tr>\n",
       "    <tr>\n",
       "      <th>5</th>\n",
       "      <td>35.0</td>\n",
       "      <td>8</td>\n",
       "      <td>1</td>\n",
       "      <td>3</td>\n",
       "      <td>unknown</td>\n",
       "      <td>5</td>\n",
       "      <td>may</td>\n",
       "      <td>139.0</td>\n",
       "      <td>1.0</td>\n",
       "      <td>unknown</td>\n",
       "      <td>0</td>\n",
       "      <td>0</td>\n",
       "    </tr>\n",
       "    <tr>\n",
       "      <th>6</th>\n",
       "      <td>28.0</td>\n",
       "      <td>8</td>\n",
       "      <td>3</td>\n",
       "      <td>3</td>\n",
       "      <td>unknown</td>\n",
       "      <td>5</td>\n",
       "      <td>may</td>\n",
       "      <td>217.0</td>\n",
       "      <td>1.0</td>\n",
       "      <td>unknown</td>\n",
       "      <td>0</td>\n",
       "      <td>0</td>\n",
       "    </tr>\n",
       "  </tbody>\n",
       "</table>\n",
       "</div>"
      ],
      "text/plain": [
       "    age  job  marital  education_qual call_type  day  mon    dur  num_calls  \\\n",
       "0  58.0    8        1               3   unknown    5  may  261.0        1.0   \n",
       "1  44.0    5        3               2   unknown    5  may  151.0        1.0   \n",
       "2  33.0    2        1               2   unknown    5  may   76.0        1.0   \n",
       "5  35.0    8        1               3   unknown    5  may  139.0        1.0   \n",
       "6  28.0    8        3               3   unknown    5  may  217.0        1.0   \n",
       "\n",
       "  prev_outcome  y  target  \n",
       "0      unknown  0       0  \n",
       "1      unknown  0       0  \n",
       "2      unknown  0       0  \n",
       "5      unknown  0       0  \n",
       "6      unknown  0       0  "
      ]
     },
     "execution_count": 67,
     "metadata": {},
     "output_type": "execute_result"
    }
   ],
   "source": [
    "#encoding for educational qualification (Label Encoding)\n",
    "df['education_qual'] = df['education_qual'].map({'primary': 1, 'secondary': 2, 'tertiary' :3})\n",
    "df.head()"
   ]
  },
  {
   "cell_type": "markdown",
   "id": "a204d05c",
   "metadata": {},
   "source": [
    "Month"
   ]
  },
  {
   "cell_type": "code",
   "execution_count": 68,
   "id": "0c386fb9",
   "metadata": {},
   "outputs": [
    {
     "data": {
      "text/html": [
       "<div>\n",
       "<style scoped>\n",
       "    .dataframe tbody tr th:only-of-type {\n",
       "        vertical-align: middle;\n",
       "    }\n",
       "\n",
       "    .dataframe tbody tr th {\n",
       "        vertical-align: top;\n",
       "    }\n",
       "\n",
       "    .dataframe thead th {\n",
       "        text-align: right;\n",
       "    }\n",
       "</style>\n",
       "<table border=\"1\" class=\"dataframe\">\n",
       "  <thead>\n",
       "    <tr style=\"text-align: right;\">\n",
       "      <th></th>\n",
       "      <th>age</th>\n",
       "      <th>job</th>\n",
       "      <th>marital</th>\n",
       "      <th>education_qual</th>\n",
       "      <th>call_type</th>\n",
       "      <th>day</th>\n",
       "      <th>mon</th>\n",
       "      <th>dur</th>\n",
       "      <th>num_calls</th>\n",
       "      <th>prev_outcome</th>\n",
       "      <th>y</th>\n",
       "      <th>target</th>\n",
       "    </tr>\n",
       "  </thead>\n",
       "  <tbody>\n",
       "    <tr>\n",
       "      <th>0</th>\n",
       "      <td>58.0</td>\n",
       "      <td>8</td>\n",
       "      <td>1</td>\n",
       "      <td>3</td>\n",
       "      <td>unknown</td>\n",
       "      <td>5</td>\n",
       "      <td>1</td>\n",
       "      <td>261.0</td>\n",
       "      <td>1.0</td>\n",
       "      <td>unknown</td>\n",
       "      <td>0</td>\n",
       "      <td>0</td>\n",
       "    </tr>\n",
       "    <tr>\n",
       "      <th>1</th>\n",
       "      <td>44.0</td>\n",
       "      <td>5</td>\n",
       "      <td>3</td>\n",
       "      <td>2</td>\n",
       "      <td>unknown</td>\n",
       "      <td>5</td>\n",
       "      <td>1</td>\n",
       "      <td>151.0</td>\n",
       "      <td>1.0</td>\n",
       "      <td>unknown</td>\n",
       "      <td>0</td>\n",
       "      <td>0</td>\n",
       "    </tr>\n",
       "    <tr>\n",
       "      <th>2</th>\n",
       "      <td>33.0</td>\n",
       "      <td>2</td>\n",
       "      <td>1</td>\n",
       "      <td>2</td>\n",
       "      <td>unknown</td>\n",
       "      <td>5</td>\n",
       "      <td>1</td>\n",
       "      <td>76.0</td>\n",
       "      <td>1.0</td>\n",
       "      <td>unknown</td>\n",
       "      <td>0</td>\n",
       "      <td>0</td>\n",
       "    </tr>\n",
       "    <tr>\n",
       "      <th>5</th>\n",
       "      <td>35.0</td>\n",
       "      <td>8</td>\n",
       "      <td>1</td>\n",
       "      <td>3</td>\n",
       "      <td>unknown</td>\n",
       "      <td>5</td>\n",
       "      <td>1</td>\n",
       "      <td>139.0</td>\n",
       "      <td>1.0</td>\n",
       "      <td>unknown</td>\n",
       "      <td>0</td>\n",
       "      <td>0</td>\n",
       "    </tr>\n",
       "    <tr>\n",
       "      <th>6</th>\n",
       "      <td>28.0</td>\n",
       "      <td>8</td>\n",
       "      <td>3</td>\n",
       "      <td>3</td>\n",
       "      <td>unknown</td>\n",
       "      <td>5</td>\n",
       "      <td>1</td>\n",
       "      <td>217.0</td>\n",
       "      <td>1.0</td>\n",
       "      <td>unknown</td>\n",
       "      <td>0</td>\n",
       "      <td>0</td>\n",
       "    </tr>\n",
       "  </tbody>\n",
       "</table>\n",
       "</div>"
      ],
      "text/plain": [
       "    age  job  marital  education_qual call_type  day  mon    dur  num_calls  \\\n",
       "0  58.0    8        1               3   unknown    5    1  261.0        1.0   \n",
       "1  44.0    5        3               2   unknown    5    1  151.0        1.0   \n",
       "2  33.0    2        1               2   unknown    5    1   76.0        1.0   \n",
       "5  35.0    8        1               3   unknown    5    1  139.0        1.0   \n",
       "6  28.0    8        3               3   unknown    5    1  217.0        1.0   \n",
       "\n",
       "  prev_outcome  y  target  \n",
       "0      unknown  0       0  \n",
       "1      unknown  0       0  \n",
       "2      unknown  0       0  \n",
       "5      unknown  0       0  \n",
       "6      unknown  0       0  "
      ]
     },
     "execution_count": 68,
     "metadata": {},
     "output_type": "execute_result"
    }
   ],
   "source": [
    "# Encoding for month column (Label Encoding)\n",
    "df['mon']=df['mon'].map({'may': 1, 'jul' : 2, 'jan': 3, 'nov': 4, 'jun' : 5, 'aug' : 6, 'feb' : 7, 'apr' : 8, 'oct' : 9, 'dec' : 10 , 'sep': 11, 'mar': 12})\n",
    "df.head()"
   ]
  },
  {
   "cell_type": "markdown",
   "id": "3da90330",
   "metadata": {},
   "source": [
    "Call Type"
   ]
  },
  {
   "cell_type": "code",
   "execution_count": 69,
   "id": "c55ca050",
   "metadata": {},
   "outputs": [
    {
     "data": {
      "text/html": [
       "<div>\n",
       "<style scoped>\n",
       "    .dataframe tbody tr th:only-of-type {\n",
       "        vertical-align: middle;\n",
       "    }\n",
       "\n",
       "    .dataframe tbody tr th {\n",
       "        vertical-align: top;\n",
       "    }\n",
       "\n",
       "    .dataframe thead th {\n",
       "        text-align: right;\n",
       "    }\n",
       "</style>\n",
       "<table border=\"1\" class=\"dataframe\">\n",
       "  <thead>\n",
       "    <tr style=\"text-align: right;\">\n",
       "      <th></th>\n",
       "      <th>age</th>\n",
       "      <th>job</th>\n",
       "      <th>marital</th>\n",
       "      <th>education_qual</th>\n",
       "      <th>call_type</th>\n",
       "      <th>day</th>\n",
       "      <th>mon</th>\n",
       "      <th>dur</th>\n",
       "      <th>num_calls</th>\n",
       "      <th>prev_outcome</th>\n",
       "      <th>y</th>\n",
       "      <th>target</th>\n",
       "    </tr>\n",
       "  </thead>\n",
       "  <tbody>\n",
       "    <tr>\n",
       "      <th>0</th>\n",
       "      <td>58.0</td>\n",
       "      <td>8</td>\n",
       "      <td>1</td>\n",
       "      <td>3</td>\n",
       "      <td>1</td>\n",
       "      <td>5</td>\n",
       "      <td>1</td>\n",
       "      <td>261.0</td>\n",
       "      <td>1.0</td>\n",
       "      <td>unknown</td>\n",
       "      <td>0</td>\n",
       "      <td>0</td>\n",
       "    </tr>\n",
       "    <tr>\n",
       "      <th>1</th>\n",
       "      <td>44.0</td>\n",
       "      <td>5</td>\n",
       "      <td>3</td>\n",
       "      <td>2</td>\n",
       "      <td>1</td>\n",
       "      <td>5</td>\n",
       "      <td>1</td>\n",
       "      <td>151.0</td>\n",
       "      <td>1.0</td>\n",
       "      <td>unknown</td>\n",
       "      <td>0</td>\n",
       "      <td>0</td>\n",
       "    </tr>\n",
       "    <tr>\n",
       "      <th>2</th>\n",
       "      <td>33.0</td>\n",
       "      <td>2</td>\n",
       "      <td>1</td>\n",
       "      <td>2</td>\n",
       "      <td>1</td>\n",
       "      <td>5</td>\n",
       "      <td>1</td>\n",
       "      <td>76.0</td>\n",
       "      <td>1.0</td>\n",
       "      <td>unknown</td>\n",
       "      <td>0</td>\n",
       "      <td>0</td>\n",
       "    </tr>\n",
       "    <tr>\n",
       "      <th>5</th>\n",
       "      <td>35.0</td>\n",
       "      <td>8</td>\n",
       "      <td>1</td>\n",
       "      <td>3</td>\n",
       "      <td>1</td>\n",
       "      <td>5</td>\n",
       "      <td>1</td>\n",
       "      <td>139.0</td>\n",
       "      <td>1.0</td>\n",
       "      <td>unknown</td>\n",
       "      <td>0</td>\n",
       "      <td>0</td>\n",
       "    </tr>\n",
       "    <tr>\n",
       "      <th>6</th>\n",
       "      <td>28.0</td>\n",
       "      <td>8</td>\n",
       "      <td>3</td>\n",
       "      <td>3</td>\n",
       "      <td>1</td>\n",
       "      <td>5</td>\n",
       "      <td>1</td>\n",
       "      <td>217.0</td>\n",
       "      <td>1.0</td>\n",
       "      <td>unknown</td>\n",
       "      <td>0</td>\n",
       "      <td>0</td>\n",
       "    </tr>\n",
       "  </tbody>\n",
       "</table>\n",
       "</div>"
      ],
      "text/plain": [
       "    age  job  marital  education_qual  call_type  day  mon    dur  num_calls  \\\n",
       "0  58.0    8        1               3          1    5    1  261.0        1.0   \n",
       "1  44.0    5        3               2          1    5    1  151.0        1.0   \n",
       "2  33.0    2        1               2          1    5    1   76.0        1.0   \n",
       "5  35.0    8        1               3          1    5    1  139.0        1.0   \n",
       "6  28.0    8        3               3          1    5    1  217.0        1.0   \n",
       "\n",
       "  prev_outcome  y  target  \n",
       "0      unknown  0       0  \n",
       "1      unknown  0       0  \n",
       "2      unknown  0       0  \n",
       "5      unknown  0       0  \n",
       "6      unknown  0       0  "
      ]
     },
     "execution_count": 69,
     "metadata": {},
     "output_type": "execute_result"
    }
   ],
   "source": [
    "# Encoding for call type column (Label Encoding)\n",
    "df['call_type'] = df['call_type'].map({'unknown': 1, 'telephone' : 2, 'cellular' : 3})\n",
    "df.head()"
   ]
  },
  {
   "cell_type": "markdown",
   "id": "25b5fd57",
   "metadata": {},
   "source": [
    "Previous Outcome"
   ]
  },
  {
   "cell_type": "code",
   "execution_count": 70,
   "id": "34a679b5",
   "metadata": {},
   "outputs": [
    {
     "data": {
      "text/html": [
       "<div>\n",
       "<style scoped>\n",
       "    .dataframe tbody tr th:only-of-type {\n",
       "        vertical-align: middle;\n",
       "    }\n",
       "\n",
       "    .dataframe tbody tr th {\n",
       "        vertical-align: top;\n",
       "    }\n",
       "\n",
       "    .dataframe thead th {\n",
       "        text-align: right;\n",
       "    }\n",
       "</style>\n",
       "<table border=\"1\" class=\"dataframe\">\n",
       "  <thead>\n",
       "    <tr style=\"text-align: right;\">\n",
       "      <th></th>\n",
       "      <th>age</th>\n",
       "      <th>job</th>\n",
       "      <th>marital</th>\n",
       "      <th>education_qual</th>\n",
       "      <th>call_type</th>\n",
       "      <th>day</th>\n",
       "      <th>mon</th>\n",
       "      <th>dur</th>\n",
       "      <th>num_calls</th>\n",
       "      <th>prev_outcome</th>\n",
       "      <th>y</th>\n",
       "      <th>target</th>\n",
       "    </tr>\n",
       "  </thead>\n",
       "  <tbody>\n",
       "    <tr>\n",
       "      <th>0</th>\n",
       "      <td>58.0</td>\n",
       "      <td>8</td>\n",
       "      <td>1</td>\n",
       "      <td>3</td>\n",
       "      <td>1</td>\n",
       "      <td>5</td>\n",
       "      <td>1</td>\n",
       "      <td>261.0</td>\n",
       "      <td>1.0</td>\n",
       "      <td>1</td>\n",
       "      <td>0</td>\n",
       "      <td>0</td>\n",
       "    </tr>\n",
       "    <tr>\n",
       "      <th>1</th>\n",
       "      <td>44.0</td>\n",
       "      <td>5</td>\n",
       "      <td>3</td>\n",
       "      <td>2</td>\n",
       "      <td>1</td>\n",
       "      <td>5</td>\n",
       "      <td>1</td>\n",
       "      <td>151.0</td>\n",
       "      <td>1.0</td>\n",
       "      <td>1</td>\n",
       "      <td>0</td>\n",
       "      <td>0</td>\n",
       "    </tr>\n",
       "    <tr>\n",
       "      <th>2</th>\n",
       "      <td>33.0</td>\n",
       "      <td>2</td>\n",
       "      <td>1</td>\n",
       "      <td>2</td>\n",
       "      <td>1</td>\n",
       "      <td>5</td>\n",
       "      <td>1</td>\n",
       "      <td>76.0</td>\n",
       "      <td>1.0</td>\n",
       "      <td>1</td>\n",
       "      <td>0</td>\n",
       "      <td>0</td>\n",
       "    </tr>\n",
       "    <tr>\n",
       "      <th>5</th>\n",
       "      <td>35.0</td>\n",
       "      <td>8</td>\n",
       "      <td>1</td>\n",
       "      <td>3</td>\n",
       "      <td>1</td>\n",
       "      <td>5</td>\n",
       "      <td>1</td>\n",
       "      <td>139.0</td>\n",
       "      <td>1.0</td>\n",
       "      <td>1</td>\n",
       "      <td>0</td>\n",
       "      <td>0</td>\n",
       "    </tr>\n",
       "    <tr>\n",
       "      <th>6</th>\n",
       "      <td>28.0</td>\n",
       "      <td>8</td>\n",
       "      <td>3</td>\n",
       "      <td>3</td>\n",
       "      <td>1</td>\n",
       "      <td>5</td>\n",
       "      <td>1</td>\n",
       "      <td>217.0</td>\n",
       "      <td>1.0</td>\n",
       "      <td>1</td>\n",
       "      <td>0</td>\n",
       "      <td>0</td>\n",
       "    </tr>\n",
       "  </tbody>\n",
       "</table>\n",
       "</div>"
      ],
      "text/plain": [
       "    age  job  marital  education_qual  call_type  day  mon    dur  num_calls  \\\n",
       "0  58.0    8        1               3          1    5    1  261.0        1.0   \n",
       "1  44.0    5        3               2          1    5    1  151.0        1.0   \n",
       "2  33.0    2        1               2          1    5    1   76.0        1.0   \n",
       "5  35.0    8        1               3          1    5    1  139.0        1.0   \n",
       "6  28.0    8        3               3          1    5    1  217.0        1.0   \n",
       "\n",
       "   prev_outcome  y  target  \n",
       "0             1  0       0  \n",
       "1             1  0       0  \n",
       "2             1  0       0  \n",
       "5             1  0       0  \n",
       "6             1  0       0  "
      ]
     },
     "execution_count": 70,
     "metadata": {},
     "output_type": "execute_result"
    }
   ],
   "source": [
    "# Encoding for previous outcome column (Label Encoding)\n",
    "df['prev_outcome']=df['prev_outcome'].map({'unknown' : 1, 'failure' : 2, 'other' : 3, 'success': 4})\n",
    "df.head()"
   ]
  },
  {
   "cell_type": "markdown",
   "id": "b1391120",
   "metadata": {},
   "source": [
    "# Feature & Target Selection"
   ]
  },
  {
   "cell_type": "code",
   "execution_count": 71,
   "id": "2ab56f19",
   "metadata": {},
   "outputs": [
    {
     "data": {
      "text/plain": [
       "Index(['age', 'job', 'marital', 'education_qual', 'call_type', 'day', 'mon',\n",
       "       'dur', 'num_calls', 'prev_outcome', 'y', 'target'],\n",
       "      dtype='object')"
      ]
     },
     "execution_count": 71,
     "metadata": {},
     "output_type": "execute_result"
    }
   ],
   "source": [
    "df.columns"
   ]
  },
  {
   "cell_type": "code",
   "execution_count": 72,
   "id": "3aca6c3d",
   "metadata": {},
   "outputs": [],
   "source": [
    "# X --> Feature y-- > Target\n",
    "x = df[['age', 'job', 'marital', 'education_qual', 'call_type', 'day', 'mon', 'dur', 'num_calls', 'prev_outcome']].values\n",
    "y=df['target'].values"
   ]
  },
  {
   "cell_type": "markdown",
   "id": "9079d6ad",
   "metadata": {},
   "source": [
    "# Spliting "
   ]
  },
  {
   "cell_type": "code",
   "execution_count": 73,
   "id": "fe283b5f",
   "metadata": {},
   "outputs": [],
   "source": [
    "# splitting the data as train and test\n",
    "from sklearn.model_selection import train_test_split\n",
    "x_train, x_test, y_train, y_test = train_test_split(x, y, test_size=0.2,random_state = 3 )"
   ]
  },
  {
   "cell_type": "markdown",
   "id": "38bada7d",
   "metadata": {},
   "source": [
    "# Balancing"
   ]
  },
  {
   "cell_type": "code",
   "execution_count": 74,
   "id": "50aec4a7",
   "metadata": {},
   "outputs": [],
   "source": [
    "#Balancing the data\n",
    "from imblearn.combine import SMOTEENN \n",
    "smt = SMOTEENN(sampling_strategy='all') \n",
    "x_train_smt, y_train_smt = smt.fit_resample(x_train, y_train)"
   ]
  },
  {
   "cell_type": "code",
   "execution_count": 75,
   "id": "db3d3e63",
   "metadata": {},
   "outputs": [
    {
     "name": "stdout",
     "output_type": "stream",
     "text": [
      "52630\n",
      "52630\n"
     ]
    }
   ],
   "source": [
    "print(len(x_train_smt))\n",
    "print(len(y_train_smt))"
   ]
  },
  {
   "cell_type": "markdown",
   "id": "b6326d00",
   "metadata": {},
   "source": [
    "# Scaling"
   ]
  },
  {
   "cell_type": "code",
   "execution_count": 76,
   "id": "497be255",
   "metadata": {},
   "outputs": [],
   "source": [
    "#scaling the data\n",
    "from sklearn.preprocessing import StandardScaler\n",
    "scaler = StandardScaler()\n",
    "x_train_scaled = scaler.fit_transform(x_train_smt)\n",
    "x_test_scaled = scaler.transform(x_test)"
   ]
  },
  {
   "cell_type": "markdown",
   "id": "50a2ed9a",
   "metadata": {},
   "source": [
    "# Modelling- Logistic Regression"
   ]
  },
  {
   "cell_type": "code",
   "execution_count": 77,
   "id": "74924c8d",
   "metadata": {},
   "outputs": [
    {
     "data": {
      "text/plain": [
       "0.7641815235008104"
      ]
     },
     "execution_count": 77,
     "metadata": {},
     "output_type": "execute_result"
    }
   ],
   "source": [
    "from sklearn.linear_model import LogisticRegression\n",
    "from sklearn.metrics import roc_auc_score\n",
    "lr = LogisticRegression()\n",
    "lr.fit(x_train_scaled,y_train_smt)\n",
    "lr.score(x_test_scaled,y_test)"
   ]
  },
  {
   "cell_type": "code",
   "execution_count": 78,
   "id": "2d0ef747",
   "metadata": {},
   "outputs": [
    {
     "data": {
      "text/plain": [
       "array([[0.8689844 , 0.1310156 ],\n",
       "       [0.9906747 , 0.0093253 ],\n",
       "       [0.89184113, 0.10815887],\n",
       "       ...,\n",
       "       [0.23524299, 0.76475701],\n",
       "       [0.14490513, 0.85509487],\n",
       "       [0.97063936, 0.02936064]])"
      ]
     },
     "execution_count": 78,
     "metadata": {},
     "output_type": "execute_result"
    }
   ],
   "source": [
    "y_pred=lr.predict_proba(x_test_scaled)\n",
    "y_pred"
   ]
  },
  {
   "cell_type": "code",
   "execution_count": 79,
   "id": "71bdb826",
   "metadata": {},
   "outputs": [
    {
     "name": "stdout",
     "output_type": "stream",
     "text": [
      "AUROC score for logistic regression  :   0.88\n"
     ]
    }
   ],
   "source": [
    "log_reg_auroc = roc_auc_score(y_test,y_pred[:,1])\n",
    "print(\"AUROC score for logistic regression  :  \",round(log_reg_auroc,2))"
   ]
  },
  {
   "cell_type": "markdown",
   "id": "deb73e4f",
   "metadata": {},
   "source": [
    "# K-Nearset Neighbour(KNN)"
   ]
  },
  {
   "cell_type": "code",
   "execution_count": 80,
   "id": "eb0b573a",
   "metadata": {},
   "outputs": [
    {
     "name": "stdout",
     "output_type": "stream",
     "text": [
      "K value : 1 Train Score :  1.0 Cross Value Accuracy : 0.8679088343847903\n",
      "K value : 2 Train Score :  0.9950978529355881 Cross Value Accuracy : 0.888747666409167\n",
      "K value : 3 Train Score :  0.9774463233897017 Cross Value Accuracy : 0.8844652590017595\n",
      "K value : 4 Train Score :  0.9772373171195136 Cross Value Accuracy : 0.8929150036479122\n",
      "K value : 5 Train Score :  0.9672240167205016 Cross Value Accuracy : 0.8903687073516158\n",
      "K value : 10 Train Score :  0.9563556906707201 Cross Value Accuracy : 0.8955773089137805\n",
      "K value : 30 Train Score :  0.933631008930268 Cross Value Accuracy : 0.893261555298056\n",
      "K value : 50 Train Score :  0.9261067832034962 Cross Value Accuracy : 0.8925671108536115\n",
      "K value : 70 Train Score :  0.9225536766102983 Cross Value Accuracy : 0.8900208145573151\n",
      "K value : 90 Train Score :  0.9206156184685541 Cross Value Accuracy : 0.8890946204025578\n",
      "K value : 100 Train Score :  0.9196085882576477 Cross Value Accuracy : 0.8884003100725291\n"
     ]
    }
   ],
   "source": [
    "from sklearn.neighbors import KNeighborsClassifier \n",
    "from sklearn.model_selection import cross_val_score \n",
    "for i in [1,2,3,4,5,10,30,50,70,90,100]: \n",
    "  knn= KNeighborsClassifier(i)\n",
    "  knn.fit(x_train_scaled, y_train_smt) \n",
    "  print(\"K value :\", i, \"Train Score : \", knn.score(x_train_scaled,y_train_smt), \"Cross Value Accuracy :\" , np.mean(cross_val_score(knn, x_test_scaled, y_test, cv=10)))"
   ]
  },
  {
   "cell_type": "code",
   "execution_count": 81,
   "id": "17ecf867",
   "metadata": {},
   "outputs": [
    {
     "name": "stdout",
     "output_type": "stream",
     "text": [
      "KNN Score:  0.7897661495716601\n",
      "AUROC on the sampled dataset :  0.5760520504222824\n"
     ]
    }
   ],
   "source": [
    "knn= KNeighborsClassifier(i)\n",
    "knn.fit(x_train_scaled, y_train_smt)\n",
    "print(\"KNN Score: \",knn.score(x_test_scaled,y_test)) \n",
    "print( \"AUROC on the sampled dataset : \",roc_auc_score( y_test, knn.predict_proba(x_test)[:, 1]))"
   ]
  },
  {
   "cell_type": "markdown",
   "id": "f4f7715e",
   "metadata": {},
   "source": [
    "# Decision Tree"
   ]
  },
  {
   "cell_type": "code",
   "execution_count": 82,
   "id": "fb82d51c",
   "metadata": {},
   "outputs": [],
   "source": [
    "from sklearn.tree import DecisionTreeClassifier \n",
    "from sklearn.metrics import roc_auc_score"
   ]
  },
  {
   "cell_type": "code",
   "execution_count": 83,
   "id": "692e20ca",
   "metadata": {},
   "outputs": [
    {
     "name": "stdout",
     "output_type": "stream",
     "text": [
      "Decision Tree Score :  1.0\n",
      "AUROC on the sampled dataset :  0.7963704071074369\n"
     ]
    }
   ],
   "source": [
    "from sklearn.tree import DecisionTreeClassifier \n",
    "from sklearn.metrics import roc_auc_score \n",
    "dt = DecisionTreeClassifier() \n",
    "dt.fit(x_train_smt,y_train_smt) \n",
    "print(\"Decision Tree Score : \", dt.score(x_train_smt,y_train_smt)) \n",
    "print( \"AUROC on the sampled dataset : \",roc_auc_score( y_test, dt.predict_proba(x_test)[:, 1]))"
   ]
  },
  {
   "cell_type": "code",
   "execution_count": 84,
   "id": "1473b6e5",
   "metadata": {},
   "outputs": [
    {
     "name": "stdout",
     "output_type": "stream",
     "text": [
      "Depth  :  1  Training Accuracy :  0.782994489834695  Cross val score :  0.8850428897901377\n",
      "Depth  :  2  Training Accuracy :  0.8108303249097473  Cross val score :  0.8936105210076821\n",
      "Depth  :  3  Training Accuracy :  0.8666159984799544  Cross val score :  0.895462775202781\n",
      "Depth  :  4  Training Accuracy :  0.9068782063461904  Cross val score :  0.8953474368052874\n",
      "Depth  :  5  Training Accuracy :  0.9146684400532016  Cross val score :  0.8973152976267114\n",
      "Depth  :  6  Training Accuracy :  0.930039901197036  Cross val score :  0.8944200356207889\n",
      "Depth  :  7  Training Accuracy :  0.9377731331939958  Cross val score :  0.8937251888330975\n",
      "Depth  :  8  Training Accuracy :  0.9443853315599468  Cross val score :  0.891641855499764\n",
      "Depth  :  9  Training Accuracy :  0.9527835835075052  Cross val score :  0.8910627494528132\n",
      "Depth  :  10  Training Accuracy :  0.9626258787763633  Cross val score :  0.891642660186258\n"
     ]
    }
   ],
   "source": [
    "from sklearn.metrics import accuracy_score, roc_auc_score\n",
    "from sklearn.model_selection import cross_val_score #this will help me to do cross- validation\n",
    "import numpy as np\n",
    "\n",
    "for depth in [1,2,3,4,5,6,7,8,9,10]:\n",
    "  dt = DecisionTreeClassifier(max_depth=depth) # will tell the DT to not grow past the given threhsold\n",
    "  # Fit dt to the training set\n",
    "  dt.fit(x_train_smt, y_train_smt) # the model is trained\n",
    "  trainAccuracy = accuracy_score(y_train_smt, dt.predict(x_train_smt)) # this is useless information - i am showing to prove a point\n",
    "  dt = DecisionTreeClassifier(max_depth=depth) # a fresh model which is not trained yet\n",
    "  valAccuracy = cross_val_score(dt, x_test_scaled, y_test, cv=10) # syntax : cross_val_Score(freshModel,fts, target, cv= 10/5)\n",
    "  print(\"Depth  : \", depth, \" Training Accuracy : \", trainAccuracy, \" Cross val score : \" ,np.mean(valAccuracy))"
   ]
  },
  {
   "cell_type": "code",
   "execution_count": 85,
   "id": "79220912",
   "metadata": {},
   "outputs": [
    {
     "name": "stdout",
     "output_type": "stream",
     "text": [
      "Decision Tree Score :  0.9146684400532016\n",
      "AUROC on the sampled dataset :  0.8626001368638679\n"
     ]
    }
   ],
   "source": [
    "dt = DecisionTreeClassifier(max_depth=5) \n",
    "dt.fit(x_train_smt,y_train_smt) \n",
    "print(\"Decision Tree Score : \", dt.score(x_train_smt,y_train_smt)) \n",
    "print( \"AUROC on the sampled dataset : \",roc_auc_score( y_test, dt.predict_proba(x_test)[:, 1]))"
   ]
  },
  {
   "cell_type": "markdown",
   "id": "07361d48",
   "metadata": {},
   "source": [
    "# XG Boost"
   ]
  },
  {
   "cell_type": "code",
   "execution_count": 86,
   "id": "4a2d1361",
   "metadata": {},
   "outputs": [
    {
     "name": "stdout",
     "output_type": "stream",
     "text": [
      "Learning rate :  0.01  Train score :  0.9451453543606309  Cross-Val score :  0.8970835479163984\n",
      "Learning rate :  0.02  Train score :  0.954436633098993  Cross-Val score :  0.896736325694176\n",
      "Learning rate :  0.03  Train score :  0.9613148394451834  Cross-Val score :  0.898125214583065\n",
      "Learning rate :  0.1  Train score :  0.9790423712711381  Cross-Val score :  0.8975465108793614\n",
      "Learning rate :  0.2  Train score :  0.9850275508265248  Cross-Val score :  0.8997451826101885\n",
      "Learning rate :  0.5  Train score :  0.9945278358350751  Cross-Val score :  0.897430636024205\n",
      "Learning rate :  0.7  Train score :  0.997548926467794  Cross-Val score :  0.8946516512166859\n",
      "Learning rate :  0.9  Train score :  0.9993349800494015  Cross-Val score :  0.8915267853311016\n",
      "Learning rate :  1  Train score :  0.9996959908797264  Cross-Val score :  0.8868960827861464\n"
     ]
    }
   ],
   "source": [
    "import xgboost as xgb\n",
    "from sklearn.model_selection import cross_val_score \n",
    "import numpy as np \n",
    "for lr in [0.01,0.02,0.03,0.1,0.2,0.5,0.7,0.9,1]: \n",
    "  model = xgb.XGBClassifier(learning_rate = lr, n_estimators=100, verbosity = 0) # initialise the model \n",
    "  model.fit(x_train_smt,y_train_smt) #train the model \n",
    "  print(\"Learning rate : \", lr,\" Train score : \", model.score(x_train_smt,y_train_smt),\" Cross-Val score : \", np.mean(cross_val_score(model, x_test, y_test, cv=10)))\n"
   ]
  },
  {
   "cell_type": "markdown",
   "id": "8742f387",
   "metadata": {},
   "source": [
    "# Random Forest"
   ]
  },
  {
   "cell_type": "code",
   "execution_count": 87,
   "id": "b943201f",
   "metadata": {},
   "outputs": [],
   "source": [
    "from sklearn.ensemble import RandomForestClassifier\n",
    "rf= RandomForestClassifier(max_depth=2,n_estimators=100,max_features=\"sqrt\")    #max_depth=log(no of features)\n",
    "rf.fit(x_train, y_train)\n",
    "y_pred= rf.predict(x_test)"
   ]
  },
  {
   "cell_type": "code",
   "execution_count": 88,
   "id": "5da32ae1",
   "metadata": {},
   "outputs": [
    {
     "name": "stdout",
     "output_type": "stream",
     "text": [
      "Depth  :  1  Training Accuracy :  0.9626258787763633  Cross val score :  0.8834119714385553\n",
      "Depth  :  2  Training Accuracy :  0.9626258787763633  Cross val score :  0.8846565947993769\n",
      "Depth  :  3  Training Accuracy :  0.9626258787763633  Cross val score :  0.890561206747017\n",
      "Depth  :  4  Training Accuracy :  0.9626258787763633  Cross val score :  0.8944106667158277\n",
      "Depth  :  5  Training Accuracy :  0.9626258787763633  Cross val score :  0.8966684152353404\n",
      "Depth  :  6  Training Accuracy :  0.9626258787763633  Cross val score :  0.8988971196381301\n",
      "Depth  :  7  Training Accuracy :  0.9626258787763633  Cross val score :  0.9018784152604795\n",
      "Depth  :  8  Training Accuracy :  0.9626258787763633  Cross val score :  0.9040201800467085\n",
      "Depth  :  9  Training Accuracy :  0.9626258787763633  Cross val score :  0.9035281730446127\n",
      "Depth  :  10  Training Accuracy :  0.9626258787763633  Cross val score :  0.905930555567194\n"
     ]
    }
   ],
   "source": [
    "#verifying the cross validation to get best value of max _depth to prevent overfitted model \n",
    "from sklearn.model_selection import cross_val_score \n",
    "from sklearn.ensemble import RandomForestClassifier\n",
    "for depth in [1,2,3,4,5,6,7,8,9,10]:\n",
    "  rf= RandomForestClassifier(max_depth=depth,n_estimators=100,max_features=\"sqrt\")   # will tell the DT to not grow past the given threhsold\n",
    "  # Fit dt to the training set\n",
    "  rf.fit(x_train, y_train) # the model is trained\n",
    "  rf= RandomForestClassifier(max_depth=depth,n_estimators=100,max_features=\"sqrt\")   # a fresh model which is not trained yet\n",
    "  valAccuracy = cross_val_score(rf, x_train, y_train, cv=10) # syntax : cross_val_Score(freshModel,fts, target, cv= 10/5)\n",
    "  print(\"Depth  : \", depth, \" Training Accuracy : \", trainAccuracy, \" Cross val score : \" ,np.mean(valAccuracy))\n"
   ]
  },
  {
   "cell_type": "code",
   "execution_count": 89,
   "id": "0eae9349",
   "metadata": {},
   "outputs": [
    {
     "data": {
      "image/png": "[encoded data removed]",
      "text/plain": [
       "<Figure size 432x288 with 1 Axes>"
      ]
     },
     "metadata": {},
     "output_type": "display_data"
    }
   ],
   "source": [
    "from xgboost import plot_importance\n",
    "# plot feature importance\n",
    "plot_importance(model,color='plum')\n",
    "plt.show()"
   ]
  },
  {
   "cell_type": "markdown",
   "id": "749102c4",
   "metadata": {},
   "source": [
    "# Each Models AUROC Value "
   ]
  },
  {
   "cell_type": "raw",
   "id": "ff665046",
   "metadata": {},
   "source": [
    "Logistic Regression - 0.88\n",
    "K-Nearest Neighbour -  0.895\n",
    "Decision Tree -  0.896\n",
    "XG Boost - 0.899\n",
    "Random Forest - 0.905"
   ]
  },
  {
   "cell_type": "markdown",
   "id": "0c6d9d43",
   "metadata": {},
   "source": [
    "# Conclusion"
   ]
  },
  {
   "cell_type": "markdown",
   "id": "91f59630",
   "metadata": {},
   "source": [
    "Based on the results obtained from the evaluation of the five classification models (Logistic Regression, KNN, Decision Tree C, XGBoost and Random forest classification) on the given historical data, Random Forest classification performed the other models with the highest accuracy score of 90.5% and the highest AUROC score of 0.905."
   ]
  }
 ],
 "metadata": {
  "kernelspec": {
   "display_name": "Python 3 (ipykernel)",
   "language": "python",
   "name": "python3"
  },
  "language_info": {
   "codemirror_mode": {
    "name": "ipython",
    "version": 3
   },
   "file_extension": ".py",
   "mimetype": "text/x-python",
   "name": "python",
   "nbconvert_exporter": "python",
   "pygments_lexer": "ipython3",
   "version": "3.9.7"
  }
 },
 "nbformat": 4,
 "nbformat_minor": 5
}
